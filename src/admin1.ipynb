{
 "cells": [
  {
   "cell_type": "code",
   "execution_count": null,
   "metadata": {},
   "outputs": [],
   "source": [
    "!python -m spacy download en_core_web_lg\n"
   ]
  },
  {
   "cell_type": "code",
   "execution_count": null,
   "metadata": {},
   "outputs": [],
   "source": [
    "import spacy\n",
    "\n",
    "nlp = spacy.load(\"en_core_web_lg\")\n",
    "\n",
    "with open(\"ex1.txt\", \"r\") as f:\n",
    "    text = f.read()\n",
    "\n",
    "doc = nlp(text)\n",
    "\n",
    "\n",
    "for ent in doc.ents:\n",
    "    print(ent.text, ent.label_)"
   ]
  },
  {
   "cell_type": "code",
   "execution_count": null,
   "metadata": {},
   "outputs": [],
   "source": [
    "# display\n",
    "from spacy import displacy\n",
    "displacy.render(doc, style =\"ent\")"
   ]
  },
  {
   "cell_type": "code",
   "execution_count": 6,
   "metadata": {},
   "outputs": [],
   "source": [
    "# using json file\n",
    "\n",
    "import json\n",
    "with open(\"annotations.json\", \"r\") as f:\n",
    "    data = json.load(f)"
   ]
  },
  {
   "cell_type": "code",
   "execution_count": null,
   "metadata": {},
   "outputs": [],
   "source": [
    "# has 2 keys: 'classes', 'annotations'\n",
    "data"
   ]
  },
  {
   "cell_type": "code",
   "execution_count": 10,
   "metadata": {},
   "outputs": [
    {
     "data": {
      "text/plain": [
       "['ADMIN_1', 'ADMIN_2', 'DISASTER']"
      ]
     },
     "execution_count": 10,
     "metadata": {},
     "output_type": "execute_result"
    }
   ],
   "source": [
    "# is the list of tags: ['ADMIN_1', 'ADMIN_2', 'DISASTER']\n",
    "data['classes']"
   ]
  },
  {
   "cell_type": "code",
   "execution_count": 31,
   "metadata": {},
   "outputs": [
    {
     "data": {
      "text/plain": [
       "['On 01 April 2017 at 3:00 pm, Gatsibo district located in the Eastern Province of Rwanda experienced heavy rainfall associated with heavy storms, which resulted in destruction of houses and community farm lands in Kiramuruzi Sector Nyabisindu Cell. The affected area is located 36 kilometers from Gatsibo District, 40 kilometers from the Eastern Province office and 70 kilometers from the City of Kigali.\\r',\n",
       " {'entities': [[29, 36, 'ADMIN_2'],\n",
       "   [61, 77, 'ADMIN_1'],\n",
       "   [131, 143, 'DISASTER'],\n",
       "   [213, 223, 'ADMIN_2'],\n",
       "   [296, 303, 'ADMIN_2'],\n",
       "   [337, 353, 'ADMIN_1'],\n",
       "   [396, 402, 'ADMIN_1']]}]"
      ]
     },
     "execution_count": 31,
     "metadata": {},
     "output_type": "execute_result"
    }
   ],
   "source": [
    "# a list of lists(a 2d list) all the sentences and the entities and tags\n",
    "data['annotations'][0]\n",
    "# data.keys()"
   ]
  },
  {
   "cell_type": "code",
   "execution_count": 27,
   "metadata": {},
   "outputs": [
    {
     "data": {
      "text/plain": [
       "{'entities': [[29, 36, 'ADMIN_2'],\n",
       "  [61, 77, 'ADMIN_1'],\n",
       "  [131, 143, 'DISASTER'],\n",
       "  [213, 223, 'ADMIN_2'],\n",
       "  [296, 303, 'ADMIN_2'],\n",
       "  [337, 353, 'ADMIN_1'],\n",
       "  [396, 402, 'ADMIN_1']]}"
      ]
     },
     "execution_count": 27,
     "metadata": {},
     "output_type": "execute_result"
    }
   ],
   "source": [
    "# you can index the lists to get the list of each sentence and the entities and tags associated\n",
    "data['annotations'][0]\n",
    "\n",
    "# the first thing in the list is the sentence\n",
    "data['annotations'][0][0]\n",
    "\n",
    "# the second thing in the list is a dictionary with one key 'entities'\n",
    "data['annotations'][0][1]\n",
    "\n",
    "# # the value of entities is another 2d array of the location of the entities and the tag\n",
    "# data['annotations'][0][1]['entities']\n",
    "\n",
    "\n"
   ]
  },
  {
   "cell_type": "code",
   "execution_count": 30,
   "metadata": {},
   "outputs": [],
   "source": [
    "# training data\n",
    "\n",
    "from spacy.tokens import DocBin\n",
    "# tqdm allows you to configure and display progress bar. useful for tracking ML experiments\n",
    "from tqdm import tqdm\n",
    "\n",
    "# load a new blank spacy model\n",
    "nlp = spacy.blank(\"en\")\n",
    "# make a new container. must be of type DocBin\n",
    "doc_bin = DocBin()\n",
    "\n",
    "# only interested in the content of the annotations key\n",
    "training_data = data['annotations']"
   ]
  },
  {
   "cell_type": "code",
   "execution_count": null,
   "metadata": {},
   "outputs": [],
   "source": [
    "# training data continued\n",
    "\n",
    "from spacy.util import filter_spans\n",
    "\n",
    "for example in tqdm(training_data):\n",
    "    # get each paragraph\n",
    "    text = example[0]\n",
    "    labels = example['annotations'][0][1]['entities']\n",
    "    # make new doc object for each example(each sentence)\n",
    "    doc = nlp.make_doc(text)\n",
    "\n",
    "    # collect entities\n",
    "    ents = []\n",
    "\n",
    "    # create a span object for each entity\n",
    "    # span is a group of token(multi word token)\n",
    "    for x in labels:\n",
    "        span = doc.char_span(x[0],x[1], label = x[2], alignment_mode=\"contract\")\n",
    "        if span is None:\n",
    "            print(\"Skipping entity\")\n",
    "        else:\n",
    "            ents.append(span)\n",
    "    \n",
    "    # avoid duplicate span\n",
    "    filtered_ents = filter_spans(ents)\n",
    "    # add filtered entities to our doc object\n",
    "    doc.ents=filtered_ents\n",
    "    # add our doc objects to doc bin we created earlier \n",
    "    doc_bin.add(doc)\n",
    "\n",
    "    doc_bin.to_disk(\"train.spacy\")"
   ]
  },
  {
   "cell_type": "code",
   "execution_count": 43,
   "metadata": {},
   "outputs": [
    {
     "data": {
      "text/plain": [
       "'ADMIN_2'"
      ]
     },
     "execution_count": 43,
     "metadata": {},
     "output_type": "execute_result"
    }
   ],
   "source": [
    "data['annotations'][0][1]['entities'][0][2]"
   ]
  }
 ],
 "metadata": {
  "kernelspec": {
   "display_name": "Python 3",
   "language": "python",
   "name": "python3"
  },
  "language_info": {
   "codemirror_mode": {
    "name": "ipython",
    "version": 3
   },
   "file_extension": ".py",
   "mimetype": "text/x-python",
   "name": "python",
   "nbconvert_exporter": "python",
   "pygments_lexer": "ipython3",
   "version": "3.10.0"
  },
  "orig_nbformat": 4,
  "vscode": {
   "interpreter": {
    "hash": "1154a9b27fc3a73b66bace9bb1f9078851fa1c44c36302049542392f5aadafcb"
   }
  }
 },
 "nbformat": 4,
 "nbformat_minor": 2
}
