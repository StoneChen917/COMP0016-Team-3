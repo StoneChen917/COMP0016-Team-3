{
 "cells": [
  {
   "cell_type": "code",
   "execution_count": null,
   "metadata": {},
   "outputs": [],
   "source": [
    "!python -m spacy download en_core_web_lg\n"
   ]
  },
  {
   "cell_type": "code",
   "execution_count": null,
   "metadata": {},
   "outputs": [],
   "source": [
    "import spacy\n",
    "\n",
    "nlp = spacy.load(\"en_core_web_lg\")\n",
    "\n",
    "with open(\"ex1.txt\", \"r\") as f:\n",
    "    text = f.read()\n",
    "\n",
    "doc = nlp(text)\n",
    "\n",
    "\n",
    "for ent in doc.ents:\n",
    "    print(ent.text, ent.label_)"
   ]
  },
  {
   "cell_type": "code",
   "execution_count": null,
   "metadata": {},
   "outputs": [],
   "source": [
    "# display\n",
    "from spacy import displacy\n",
    "displacy.render(doc, style =\"ent\")"
   ]
  },
  {
   "cell_type": "code",
   "execution_count": 8,
   "metadata": {},
   "outputs": [],
   "source": [
    "# using json file\n",
    "\n",
    "import json\n",
    "with open(\"annotations.json\", \"r\") as f:\n",
    "    data = json.load(f)"
   ]
  },
  {
   "cell_type": "code",
   "execution_count": 18,
   "metadata": {},
   "outputs": [
    {
     "data": {
      "text/plain": [
       "{'classes': ['ADMIN_1', 'ADMIN_2', 'DISASTER'],\n",
       " 'annotations': [['On 01 April 2017 at 3:00 pm, Gatsibo district located in the Eastern Province of Rwanda experienced heavy rainfall associated with heavy storms, which resulted in destruction of houses and community farm lands in Kiramuruzi Sector Nyabisindu Cell. The affected area is located 36 kilometers from Gatsibo District, 40 kilometers from the Eastern Province office and 70 kilometers from the City of Kigali.\\r',\n",
       "   {'entities': [[29, 36, 'ADMIN_2'],\n",
       "     [61, 77, 'ADMIN_1'],\n",
       "     [131, 143, 'DISASTER'],\n",
       "     [213, 223, 'ADMIN_2'],\n",
       "     [296, 303, 'ADMIN_2'],\n",
       "     [337, 353, 'ADMIN_1'],\n",
       "     [396, 402, 'ADMIN_1']]}],\n",
       "  ['\\r', {'entities': []}],\n",
       "  ['In the beginning of October 2016, an upsurge of violence in the northern area of Myanmar’s Rakhine State led to mass displacement amongst the local population. The violence took place against a backdrop of decades of protracted tension and intercommunal violence between Rakhine and Muslim communities in Rakhine.The violence was sparked by a series of coordinated attacks on 9 October on border police stations in Maungdaw and Rathedaung townships, located in the northern area of Rakhine State. The attacks triggered an immediate response from security forces in Myanmar, which resulted in access to these areas being denied for humanitarian organizations and the media.This however was relaxed in mid – April 2017. An estimated 120,000 people from Maungdaw district affected by the communal violence fled their homes to either Bangladesh or other safer areas within northern and central areas of Rakhine state.\\r',\n",
       "   {'entities': [[37, 56, 'DISASTER'],\n",
       "     [91, 104, 'ADMIN_1'],\n",
       "     [271, 278, 'ADMIN_1'],\n",
       "     [305, 316, 'ADMIN_1'],\n",
       "     [415, 423, 'ADMIN_2'],\n",
       "     [428, 438, 'ADMIN_2'],\n",
       "     [482, 489, 'ADMIN_1'],\n",
       "     [751, 759, 'ADMIN_2'],\n",
       "     [899, 906, 'ADMIN_1']]}],\n",
       "  ['\\r', {'entities': []}],\n",
       "  ['Starting on the night of 4 – 5th July 2018, with three patients originating from the JIBIYA health Centre in neighbouring Nigeria to N’Yelwa Health Centre in the Madarounfa Health District of Niger, with acute watery diarrhoea and vomiting, the Niger cholera outbreak rapidly surged, with large numbers of new cases and deaths registered.New districts including Madarounfa, Maradi Commune, Guidan-Roumdji, Dakoro, Aguié and Tessaoua (Maradi region), Gaya (Dosso region), Damagaran-Takaya,Takeita and Mirriah (Zinder region), Birni-N’Konni, Malbaza, Keita and Madaoua were also reported to be affected. According to the Directorate of Surveillance and Epidemics Response of the Niger Ministry of Health(MoH) report presented during the last WASH cluster meeting held on 28 February 2019, the Maradi Cholera epidemic outbreak erupted on week 27 and ended on week 44.\\r',\n",
       "   {'entities': [[162, 172, 'ADMIN_2'],\n",
       "     [204, 239, 'DISASTER'],\n",
       "     [251, 267, 'DISASTER'],\n",
       "     [374, 380, 'ADMIN_1'],\n",
       "     [390, 404, 'ADMIN_2'],\n",
       "     [406, 412, 'ADMIN_2'],\n",
       "     [414, 419, 'ADMIN_2'],\n",
       "     [424, 432, 'ADMIN_2'],\n",
       "     [434, 440, 'ADMIN_1'],\n",
       "     [450, 454, 'ADMIN_2'],\n",
       "     [456, 461, 'ADMIN_1'],\n",
       "     [471, 487, 'ADMIN_2'],\n",
       "     [488, 495, 'ADMIN_2'],\n",
       "     [500, 507, 'ADMIN_2'],\n",
       "     [509, 515, 'ADMIN_1'],\n",
       "     [549, 554, 'ADMIN_2'],\n",
       "     [559, 566, 'ADMIN_2'],\n",
       "     [791, 797, 'ADMIN_1'],\n",
       "     [798, 823, 'DISASTER']]}],\n",
       "  ['\\r', {'entities': []}],\n",
       "  ['Beginning March 2018, heavy rainfall was experienced across many districts in the Western, Southern and Eastern regions of Rwanda, which resulted in flooding and landslides. On 3 March 2018, Rubavu District, located in the Western province of Rwanda, experienced heavy rains which resulted in flooding along Sebeya River and landslides in the steep areas. The affected areas were in four sectors, namely Nyundo, Nyakiliba, Rugerero and Kanama. In Rubavu district, 5,000 households (25,000 people) from seven (7) cells in four (4) sectors were affected by the floods, of which 4,750 people from 950 households were directly affected. These 950 HH were accommodated in the nearby communities after their homes were either destroyed or damaged by flowing waters and mud debris.\\r',\n",
       "   {'entities': [[82, 89, 'ADMIN_1'],\n",
       "     [91, 99, 'ADMIN_1'],\n",
       "     [104, 111, 'ADMIN_1'],\n",
       "     [149, 157, 'DISASTER'],\n",
       "     [162, 173, 'DISASTER'],\n",
       "     [191, 197, 'ADMIN_2'],\n",
       "     [223, 239, 'ADMIN_1'],\n",
       "     [293, 301, 'DISASTER'],\n",
       "     [325, 335, 'DISASTER'],\n",
       "     [436, 443, 'ADMIN_2'],\n",
       "     [447, 453, 'ADMIN_2'],\n",
       "     [559, 565, 'DISASTER']]}],\n",
       "  ['\\r', {'entities': []}],\n",
       "  ['A period of inter-communal unrest and conflict in the Democratic Republic of Congo (DRC) Ituri and North Kivu Provinces prompts mass displacements movements with people fleeing violence and human rights abuses and seeking shelter and assistance in neighboring Uganda. The refugees were being accommodated in Kyangwali and Kyaka II refugee settlements. With support from IFRC, the URCS provided assistance, scaling up its efforts to respond to the humanitarian needs of the affected population. 206,305 Swiss francs allocated from the IFRC’s DREF to respond to the humanitarian needs.The number of refugees entering Uganda escalated significantly, with on average 3,875 new arrivals per day. IFRC and URCS conducted a joint mission in the Mid-Western region to assess needs.\\r',\n",
       "   {'entities': [[12, 33, 'DISASTER'],\n",
       "     [89, 94, 'ADMIN_1'],\n",
       "     [99, 109, 'ADMIN_1'],\n",
       "     [322, 327, 'ADMIN_2']]}],\n",
       "  ['\\r', {'entities': []}],\n",
       "  ['\\r', {'entities': []}],\n",
       "  ['', {'entities': []}],\n",
       "  ['', {'entities': []}],\n",
       "  ['', {'entities': []}]]}"
      ]
     },
     "execution_count": 18,
     "metadata": {},
     "output_type": "execute_result"
    }
   ],
   "source": [
    "data"
   ]
  },
  {
   "cell_type": "code",
   "execution_count": 19,
   "metadata": {},
   "outputs": [
    {
     "data": {
      "text/plain": [
       "[['On 01 April 2017 at 3:00 pm, Gatsibo district located in the Eastern Province of Rwanda experienced heavy rainfall associated with heavy storms, which resulted in destruction of houses and community farm lands in Kiramuruzi Sector Nyabisindu Cell. The affected area is located 36 kilometers from Gatsibo District, 40 kilometers from the Eastern Province office and 70 kilometers from the City of Kigali.\\r',\n",
       "  {'entities': [[29, 36, 'ADMIN_2'],\n",
       "    [61, 77, 'ADMIN_1'],\n",
       "    [131, 143, 'DISASTER'],\n",
       "    [213, 223, 'ADMIN_2'],\n",
       "    [296, 303, 'ADMIN_2'],\n",
       "    [337, 353, 'ADMIN_1'],\n",
       "    [396, 402, 'ADMIN_1']]}],\n",
       " ['\\r', {'entities': []}],\n",
       " ['In the beginning of October 2016, an upsurge of violence in the northern area of Myanmar’s Rakhine State led to mass displacement amongst the local population. The violence took place against a backdrop of decades of protracted tension and intercommunal violence between Rakhine and Muslim communities in Rakhine.The violence was sparked by a series of coordinated attacks on 9 October on border police stations in Maungdaw and Rathedaung townships, located in the northern area of Rakhine State. The attacks triggered an immediate response from security forces in Myanmar, which resulted in access to these areas being denied for humanitarian organizations and the media.This however was relaxed in mid – April 2017. An estimated 120,000 people from Maungdaw district affected by the communal violence fled their homes to either Bangladesh or other safer areas within northern and central areas of Rakhine state.\\r',\n",
       "  {'entities': [[37, 56, 'DISASTER'],\n",
       "    [91, 104, 'ADMIN_1'],\n",
       "    [271, 278, 'ADMIN_1'],\n",
       "    [305, 316, 'ADMIN_1'],\n",
       "    [415, 423, 'ADMIN_2'],\n",
       "    [428, 438, 'ADMIN_2'],\n",
       "    [482, 489, 'ADMIN_1'],\n",
       "    [751, 759, 'ADMIN_2'],\n",
       "    [899, 906, 'ADMIN_1']]}],\n",
       " ['\\r', {'entities': []}],\n",
       " ['Starting on the night of 4 – 5th July 2018, with three patients originating from the JIBIYA health Centre in neighbouring Nigeria to N’Yelwa Health Centre in the Madarounfa Health District of Niger, with acute watery diarrhoea and vomiting, the Niger cholera outbreak rapidly surged, with large numbers of new cases and deaths registered.New districts including Madarounfa, Maradi Commune, Guidan-Roumdji, Dakoro, Aguié and Tessaoua (Maradi region), Gaya (Dosso region), Damagaran-Takaya,Takeita and Mirriah (Zinder region), Birni-N’Konni, Malbaza, Keita and Madaoua were also reported to be affected. According to the Directorate of Surveillance and Epidemics Response of the Niger Ministry of Health(MoH) report presented during the last WASH cluster meeting held on 28 February 2019, the Maradi Cholera epidemic outbreak erupted on week 27 and ended on week 44.\\r',\n",
       "  {'entities': [[162, 172, 'ADMIN_2'],\n",
       "    [204, 239, 'DISASTER'],\n",
       "    [251, 267, 'DISASTER'],\n",
       "    [374, 380, 'ADMIN_1'],\n",
       "    [390, 404, 'ADMIN_2'],\n",
       "    [406, 412, 'ADMIN_2'],\n",
       "    [414, 419, 'ADMIN_2'],\n",
       "    [424, 432, 'ADMIN_2'],\n",
       "    [434, 440, 'ADMIN_1'],\n",
       "    [450, 454, 'ADMIN_2'],\n",
       "    [456, 461, 'ADMIN_1'],\n",
       "    [471, 487, 'ADMIN_2'],\n",
       "    [488, 495, 'ADMIN_2'],\n",
       "    [500, 507, 'ADMIN_2'],\n",
       "    [509, 515, 'ADMIN_1'],\n",
       "    [549, 554, 'ADMIN_2'],\n",
       "    [559, 566, 'ADMIN_2'],\n",
       "    [791, 797, 'ADMIN_1'],\n",
       "    [798, 823, 'DISASTER']]}],\n",
       " ['\\r', {'entities': []}],\n",
       " ['Beginning March 2018, heavy rainfall was experienced across many districts in the Western, Southern and Eastern regions of Rwanda, which resulted in flooding and landslides. On 3 March 2018, Rubavu District, located in the Western province of Rwanda, experienced heavy rains which resulted in flooding along Sebeya River and landslides in the steep areas. The affected areas were in four sectors, namely Nyundo, Nyakiliba, Rugerero and Kanama. In Rubavu district, 5,000 households (25,000 people) from seven (7) cells in four (4) sectors were affected by the floods, of which 4,750 people from 950 households were directly affected. These 950 HH were accommodated in the nearby communities after their homes were either destroyed or damaged by flowing waters and mud debris.\\r',\n",
       "  {'entities': [[82, 89, 'ADMIN_1'],\n",
       "    [91, 99, 'ADMIN_1'],\n",
       "    [104, 111, 'ADMIN_1'],\n",
       "    [149, 157, 'DISASTER'],\n",
       "    [162, 173, 'DISASTER'],\n",
       "    [191, 197, 'ADMIN_2'],\n",
       "    [223, 239, 'ADMIN_1'],\n",
       "    [293, 301, 'DISASTER'],\n",
       "    [325, 335, 'DISASTER'],\n",
       "    [436, 443, 'ADMIN_2'],\n",
       "    [447, 453, 'ADMIN_2'],\n",
       "    [559, 565, 'DISASTER']]}],\n",
       " ['\\r', {'entities': []}],\n",
       " ['A period of inter-communal unrest and conflict in the Democratic Republic of Congo (DRC) Ituri and North Kivu Provinces prompts mass displacements movements with people fleeing violence and human rights abuses and seeking shelter and assistance in neighboring Uganda. The refugees were being accommodated in Kyangwali and Kyaka II refugee settlements. With support from IFRC, the URCS provided assistance, scaling up its efforts to respond to the humanitarian needs of the affected population. 206,305 Swiss francs allocated from the IFRC’s DREF to respond to the humanitarian needs.The number of refugees entering Uganda escalated significantly, with on average 3,875 new arrivals per day. IFRC and URCS conducted a joint mission in the Mid-Western region to assess needs.\\r',\n",
       "  {'entities': [[12, 33, 'DISASTER'],\n",
       "    [89, 94, 'ADMIN_1'],\n",
       "    [99, 109, 'ADMIN_1'],\n",
       "    [322, 327, 'ADMIN_2']]}],\n",
       " ['\\r', {'entities': []}],\n",
       " ['\\r', {'entities': []}],\n",
       " ['', {'entities': []}],\n",
       " ['', {'entities': []}],\n",
       " ['', {'entities': []}]]"
      ]
     },
     "execution_count": 19,
     "metadata": {},
     "output_type": "execute_result"
    }
   ],
   "source": [
    "data['annotations']\n",
    "# data.keys()"
   ]
  }
 ],
 "metadata": {
  "kernelspec": {
   "display_name": "Python 3",
   "language": "python",
   "name": "python3"
  },
  "language_info": {
   "codemirror_mode": {
    "name": "ipython",
    "version": 3
   },
   "file_extension": ".py",
   "mimetype": "text/x-python",
   "name": "python",
   "nbconvert_exporter": "python",
   "pygments_lexer": "ipython3",
   "version": "3.10.0"
  },
  "orig_nbformat": 4,
  "vscode": {
   "interpreter": {
    "hash": "1154a9b27fc3a73b66bace9bb1f9078851fa1c44c36302049542392f5aadafcb"
   }
  }
 },
 "nbformat": 4,
 "nbformat_minor": 2
}
