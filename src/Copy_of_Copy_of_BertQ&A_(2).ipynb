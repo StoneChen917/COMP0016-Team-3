{
  "cells": [
    {
      "cell_type": "code",
      "execution_count": null,
      "metadata": {
        "colab": {
          "base_uri": "https://localhost:8080/"
        },
        "id": "032bGHk4MPdq",
        "outputId": "c1802b87-385c-41b6-b4f1-866f097a42e2"
      },
      "outputs": [
        {
          "output_type": "stream",
          "name": "stdout",
          "text": [
            "Looking in indexes: https://pypi.org/simple, https://us-python.pkg.dev/colab-wheels/public/simple/\n",
            "Requirement already satisfied: transformers in /usr/local/lib/python3.8/dist-packages (4.26.0)\n",
            "Requirement already satisfied: packaging>=20.0 in /usr/local/lib/python3.8/dist-packages (from transformers) (23.0)\n",
            "Requirement already satisfied: regex!=2019.12.17 in /usr/local/lib/python3.8/dist-packages (from transformers) (2022.6.2)\n",
            "Requirement already satisfied: tqdm>=4.27 in /usr/local/lib/python3.8/dist-packages (from transformers) (4.64.1)\n",
            "Requirement already satisfied: filelock in /usr/local/lib/python3.8/dist-packages (from transformers) (3.9.0)\n",
            "Requirement already satisfied: numpy>=1.17 in /usr/local/lib/python3.8/dist-packages (from transformers) (1.21.6)\n",
            "Requirement already satisfied: huggingface-hub<1.0,>=0.11.0 in /usr/local/lib/python3.8/dist-packages (from transformers) (0.12.0)\n",
            "Requirement already satisfied: tokenizers!=0.11.3,<0.14,>=0.11.1 in /usr/local/lib/python3.8/dist-packages (from transformers) (0.13.2)\n",
            "Requirement already satisfied: requests in /usr/local/lib/python3.8/dist-packages (from transformers) (2.25.1)\n",
            "Requirement already satisfied: pyyaml>=5.1 in /usr/local/lib/python3.8/dist-packages (from transformers) (6.0)\n",
            "Requirement already satisfied: typing-extensions>=3.7.4.3 in /usr/local/lib/python3.8/dist-packages (from huggingface-hub<1.0,>=0.11.0->transformers) (4.4.0)\n",
            "Requirement already satisfied: chardet<5,>=3.0.2 in /usr/local/lib/python3.8/dist-packages (from requests->transformers) (4.0.0)\n",
            "Requirement already satisfied: idna<3,>=2.5 in /usr/local/lib/python3.8/dist-packages (from requests->transformers) (2.10)\n",
            "Requirement already satisfied: certifi>=2017.4.17 in /usr/local/lib/python3.8/dist-packages (from requests->transformers) (2022.12.7)\n",
            "Requirement already satisfied: urllib3<1.27,>=1.21.1 in /usr/local/lib/python3.8/dist-packages (from requests->transformers) (1.24.3)\n"
          ]
        }
      ],
      "source": [
        "!pip install transformers\n",
        "from transformers import BertForQuestionAnswering\n",
        "model = BertForQuestionAnswering.from_pretrained('bert-base-uncased')"
      ]
    },
    {
      "cell_type": "code",
      "execution_count": null,
      "metadata": {
        "id": "eF6aBX2nQgnO"
      },
      "outputs": [],
      "source": [
        "from transformers import AutoTokenizer\n",
        "tokenizer = AutoTokenizer.from_pretrained('bert-base-uncased')"
      ]
    },
    {
      "cell_type": "code",
      "execution_count": null,
      "metadata": {
        "id": "F09JklwZQ4uX"
      },
      "outputs": [],
      "source": [
        "questions1 = \"start date?\"\n",
        "questions2 = \"end date?\"\n",
        "questions3 = \"Glide Number?\"\n",
        "questions4 = \"operation number?\"\n",
        "questions5 = \"budget?\""
      ]
    },
    {
      "cell_type": "code",
      "source": [
        "tokenizer.encode(questions1, truncation = True, padding = True)\n",
        "#tokenizer.encode('[CLS]')\n",
        "from transformers import pipeline\n",
        "nlp = pipeline('question-answering', model = model, tokenizer = tokenizer)\n",
        "# importing required modules\n",
        "!pip install PyPDF2\n",
        "from PyPDF2 import PdfReader\n",
        "\n",
        "# creating a pdf file object\n",
        "pdfFileObj = open('MDRRW014dfr (1).pdf', 'rb')\n",
        "\n",
        "# creating a pdf reader object\n",
        "pdfReader = PdfReader(pdfFileObj)\n",
        "\n",
        "# printing number of pages in pdf file\n",
        "print(len(pdfReader.pages))\n",
        "\n",
        "# creating a page object\n",
        "pageObj = pdfReader.pages[6]\n",
        "\n",
        "# extracting text from page\n",
        "context = pageObj.extract_text()\n",
        "\n",
        "\n",
        "# closing the pdf file object\n",
        "pdfFileObj.close()\n",
        "\n",
        "#print(context)\n",
        "\n",
        "nlp({'question': questions1, 'context': context})\n"
      ],
      "metadata": {
        "id": "due2r4IROjDV"
      },
      "execution_count": null,
      "outputs": []
    },
    {
      "cell_type": "code",
      "source": [
        "tokenizer.encode(questions2, truncation = True, padding = True)\n",
        "#tokenizer.encode('[CLS]')\n",
        "from transformers import pipeline\n",
        "nlp = pipeline('question-answering', model = model, tokenizer = tokenizer)\n",
        "# importing required modules\n",
        "!pip install PyPDF2\n",
        "from PyPDF2 import PdfReader\n",
        "\n",
        "# creating a pdf file object\n",
        "pdfFileObj = open('MDRRW014dfr (1).pdf', 'rb')\n",
        "\n",
        "# creating a pdf reader object\n",
        "pdfReader = PdfReader(pdfFileObj)\n",
        "\n",
        "# printing number of pages in pdf file\n",
        "print(len(pdfReader.pages))\n",
        "\n",
        "# creating a page object\n",
        "pageObj = pdfReader.pages[6]\n",
        "\n",
        "# extracting text from page\n",
        "context = pageObj.extract_text()\n",
        "\n",
        "\n",
        "# closing the pdf file object\n",
        "pdfFileObj.close()\n",
        "\n",
        "#print(context)\n",
        "\n",
        "nlp({'question': questions2, 'context': context})"
      ],
      "metadata": {
        "id": "rwi_b152NQ2-"
      },
      "execution_count": null,
      "outputs": []
    },
    {
      "cell_type": "code",
      "source": [
        "tokenizer.encode(questions3, truncation = True, padding = True)\n",
        "#tokenizer.encode('[CLS]')\n",
        "from transformers import pipeline\n",
        "nlp = pipeline('question-answering', model = model, tokenizer = tokenizer)\n",
        "# importing required modules\n",
        "!pip install PyPDF2\n",
        "from PyPDF2 import PdfReader\n",
        "\n",
        "# creating a pdf file object\n",
        "pdfFileObj = open('MDRRW014dfr (1).pdf', 'rb')\n",
        "\n",
        "# creating a pdf reader object\n",
        "pdfReader = PdfReader(pdfFileObj)\n",
        "\n",
        "# printing number of pages in pdf file\n",
        "print(len(pdfReader.pages))\n",
        "\n",
        "# creating a page object\n",
        "pageObj = pdfReader.pages[6]\n",
        "\n",
        "# extracting text from page\n",
        "context = pageObj.extract_text()\n",
        "\n",
        "\n",
        "# closing the pdf file object\n",
        "pdfFileObj.close()\n",
        "\n",
        "#print(context)\n",
        "\n",
        "nlp({'question': questions3, 'context': context})"
      ],
      "metadata": {
        "id": "ZMAI8jwvNQ0p"
      },
      "execution_count": null,
      "outputs": []
    },
    {
      "cell_type": "code",
      "source": [
        "tokenizer.encode(questions4, truncation = True, padding = True)\n",
        "#tokenizer.encode('[CLS]')\n",
        "from transformers import pipeline\n",
        "nlp = pipeline('question-answering', model = model, tokenizer = tokenizer)\n",
        "# importing required modules\n",
        "!pip install PyPDF2\n",
        "from PyPDF2 import PdfReader\n",
        "\n",
        "# creating a pdf file object\n",
        "pdfFileObj = open('MDRRW014dfr (1).pdf', 'rb')\n",
        "\n",
        "# creating a pdf reader object\n",
        "pdfReader = PdfReader(pdfFileObj)\n",
        "\n",
        "# printing number of pages in pdf file\n",
        "print(len(pdfReader.pages))\n",
        "\n",
        "# creating a page object\n",
        "pageObj = pdfReader.pages[6]\n",
        "\n",
        "# extracting text from page\n",
        "context = pageObj.extract_text()\n",
        "\n",
        "\n",
        "# closing the pdf file object\n",
        "pdfFileObj.close()\n",
        "\n",
        "#print(context)\n",
        "\n",
        "nlp({'question': questions4, 'context': context})"
      ],
      "metadata": {
        "id": "YYDJLDyMNWAZ"
      },
      "execution_count": null,
      "outputs": []
    },
    {
      "cell_type": "code",
      "execution_count": null,
      "metadata": {
        "id": "8FybVLg7RRZd"
      },
      "outputs": [],
      "source": [
        "tokenizer.encode(questions5, truncation = True, padding = True)\n",
        "#tokenizer.encode('[CLS]')\n",
        "from transformers import pipeline\n",
        "nlp = pipeline('question-answering', model = model, tokenizer = tokenizer)\n",
        "# importing required modules\n",
        "!pip install PyPDF2\n",
        "from PyPDF2 import PdfReader\n",
        "\n",
        "# creating a pdf file object\n",
        "pdfFileObj = open('MDRRW014dfr (1).pdf', 'rb')\n",
        "\n",
        "# creating a pdf reader object\n",
        "pdfReader = PdfReader(pdfFileObj)\n",
        "\n",
        "# printing number of pages in pdf file\n",
        "print(len(pdfReader.pages))\n",
        "\n",
        "# creating a page object\n",
        "pageObj = pdfReader.pages[6]\n",
        "\n",
        "# extracting text from page\n",
        "context = pageObj.extract_text()\n",
        "\n",
        "\n",
        "# closing the pdf file object\n",
        "pdfFileObj.close()\n",
        "\n",
        "#print(context)\n",
        "\n",
        "nlp({'question': questions5, 'context': context})"
      ]
    }
  ],
  "metadata": {
    "colab": {
      "provenance": []
    },
    "gpuClass": "standard",
    "kernelspec": {
      "display_name": "Python 3",
      "language": "python",
      "name": "python3"
    },
    "language_info": {
      "codemirror_mode": {
        "name": "ipython",
        "version": 3
      },
      "file_extension": ".py",
      "mimetype": "text/x-python",
      "name": "python",
      "nbconvert_exporter": "python",
      "pygments_lexer": "ipython3",
      "version": "3.11.1"
    },
    "vscode": {
      "interpreter": {
        "hash": "aee8b7b246df8f9039afb4144a1f6fd8d2ca17a180786b69acc140d282b71a49"
      }
    }
  },
  "nbformat": 4,
  "nbformat_minor": 0
}