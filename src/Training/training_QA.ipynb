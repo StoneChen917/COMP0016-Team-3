{
 "cells": [
  {
   "cell_type": "code",
   "execution_count": 4,
   "metadata": {},
   "outputs": [
    {
     "name": "stdout",
     "output_type": "stream",
     "text": [
      "zsh:1: command not found: nvidia-smi\n"
     ]
    }
   ],
   "source": [
    "# Make sure you have a GPU running\n",
    "!nvidia-smi\n"
   ]
  },
  {
   "cell_type": "code",
   "execution_count": 5,
   "metadata": {},
   "outputs": [
    {
     "name": "stdout",
     "output_type": "stream",
     "text": [
      "Requirement already satisfied: pip in /Users/tosinfadahunsi/.pyenv/versions/3.10.0/lib/python3.10/site-packages (23.0.1)\n"
     ]
    }
   ],
   "source": [
    "!pip install --upgrade pip"
   ]
  },
  {
   "cell_type": "code",
   "execution_count": 1,
   "metadata": {},
   "outputs": [
    {
     "name": "stdout",
     "output_type": "stream",
     "text": [
      "Collecting git+https://github.com/deepset-ai/haystack.git\n",
      "  Cloning https://github.com/deepset-ai/haystack.git to /private/var/folders/dx/9v7gxkdn1151q28dkm0fsv180000gn/T/pip-req-build-dpwn17ei\n",
      "  Running command git clone --filter=blob:none --quiet https://github.com/deepset-ai/haystack.git /private/var/folders/dx/9v7gxkdn1151q28dkm0fsv180000gn/T/pip-req-build-dpwn17ei\n",
      "  Resolved https://github.com/deepset-ai/haystack.git to commit 1a421669786c80feee5ef17511202529c9c30c84\n",
      "  Installing build dependencies ... \u001b[?25ldone\n",
      "\u001b[?25h  Getting requirements to build wheel ... \u001b[?25ldone\n",
      "\u001b[?25h  Preparing metadata (pyproject.toml) ... \u001b[?25ldone\n",
      "\u001b[?25hRequirement already satisfied: scikit-learn>=1.0.0 in /Users/tosinfadahunsi/.pyenv/versions/3.10.0/lib/python3.10/site-packages (from farm-haystack==1.15.0rc0) (1.2.1)\n",
      "Requirement already satisfied: posthog in /Users/tosinfadahunsi/.pyenv/versions/3.10.0/lib/python3.10/site-packages (from farm-haystack==1.15.0rc0) (2.3.1)\n",
      "Requirement already satisfied: tenacity in /Users/tosinfadahunsi/.pyenv/versions/3.10.0/lib/python3.10/site-packages (from farm-haystack==1.15.0rc0) (8.2.2)\n",
      "Requirement already satisfied: mmh3 in /Users/tosinfadahunsi/.pyenv/versions/3.10.0/lib/python3.10/site-packages (from farm-haystack==1.15.0rc0) (3.0.0)\n",
      "Requirement already satisfied: jsonschema in /Users/tosinfadahunsi/.pyenv/versions/3.10.0/lib/python3.10/site-packages (from farm-haystack==1.15.0rc0) (4.4.0)\n",
      "Requirement already satisfied: networkx in /Users/tosinfadahunsi/.pyenv/versions/3.10.0/lib/python3.10/site-packages (from farm-haystack==1.15.0rc0) (3.0)\n",
      "Requirement already satisfied: pydantic in /Users/tosinfadahunsi/.pyenv/versions/3.10.0/lib/python3.10/site-packages (from farm-haystack==1.15.0rc0) (1.10.2)\n",
      "Requirement already satisfied: elasticsearch<8,>=7.7 in /Users/tosinfadahunsi/.pyenv/versions/3.10.0/lib/python3.10/site-packages (from farm-haystack==1.15.0rc0) (7.17.9)\n",
      "Requirement already satisfied: tika in /Users/tosinfadahunsi/.pyenv/versions/3.10.0/lib/python3.10/site-packages (from farm-haystack==1.15.0rc0) (2.6.0)\n",
      "Requirement already satisfied: tqdm in /Users/tosinfadahunsi/.pyenv/versions/3.10.0/lib/python3.10/site-packages (from farm-haystack==1.15.0rc0) (4.64.1)\n",
      "Requirement already satisfied: nltk in /Users/tosinfadahunsi/.pyenv/versions/3.10.0/lib/python3.10/site-packages (from farm-haystack==1.15.0rc0) (3.8.1)\n",
      "Requirement already satisfied: transformers[torch]==4.25.1 in /Users/tosinfadahunsi/.pyenv/versions/3.10.0/lib/python3.10/site-packages (from farm-haystack==1.15.0rc0) (4.25.1)\n",
      "Requirement already satisfied: azure-ai-formrecognizer>=3.2.0b2 in /Users/tosinfadahunsi/.pyenv/versions/3.10.0/lib/python3.10/site-packages (from farm-haystack==1.15.0rc0) (3.2.0)\n",
      "Requirement already satisfied: tiktoken>=0.2.0 in /Users/tosinfadahunsi/.pyenv/versions/3.10.0/lib/python3.10/site-packages (from farm-haystack==1.15.0rc0) (0.3.0)\n",
      "Requirement already satisfied: huggingface-hub>=0.5.0 in /Users/tosinfadahunsi/.pyenv/versions/3.10.0/lib/python3.10/site-packages (from farm-haystack==1.15.0rc0) (0.12.0)\n",
      "Requirement already satisfied: scipy>=1.3.2 in /Users/tosinfadahunsi/.pyenv/versions/3.10.0/lib/python3.10/site-packages (from farm-haystack==1.15.0rc0) (1.10.0)\n",
      "Requirement already satisfied: rapidfuzz<2.8.0,>=2.0.15 in /Users/tosinfadahunsi/.pyenv/versions/3.10.0/lib/python3.10/site-packages (from farm-haystack==1.15.0rc0) (2.7.0)\n",
      "Requirement already satisfied: mlflow in /Users/tosinfadahunsi/.pyenv/versions/3.10.0/lib/python3.10/site-packages (from farm-haystack==1.15.0rc0) (2.2.1)\n",
      "Requirement already satisfied: dill in /Users/tosinfadahunsi/.pyenv/versions/3.10.0/lib/python3.10/site-packages (from farm-haystack==1.15.0rc0) (0.3.6)\n",
      "Requirement already satisfied: protobuf<=3.20.2 in /Users/tosinfadahunsi/.pyenv/versions/3.10.0/lib/python3.10/site-packages (from farm-haystack==1.15.0rc0) (3.20.2)\n",
      "Requirement already satisfied: sentence-transformers>=2.2.0 in /Users/tosinfadahunsi/.pyenv/versions/3.10.0/lib/python3.10/site-packages (from farm-haystack==1.15.0rc0) (2.2.2)\n",
      "Requirement already satisfied: langdetect in /Users/tosinfadahunsi/.pyenv/versions/3.10.0/lib/python3.10/site-packages (from farm-haystack==1.15.0rc0) (1.0.9)\n",
      "Requirement already satisfied: requests in /Users/tosinfadahunsi/.pyenv/versions/3.10.0/lib/python3.10/site-packages (from farm-haystack==1.15.0rc0) (2.28.1)\n",
      "Requirement already satisfied: seqeval in /Users/tosinfadahunsi/.pyenv/versions/3.10.0/lib/python3.10/site-packages (from farm-haystack==1.15.0rc0) (1.2.2)\n",
      "Requirement already satisfied: pandas in /Users/tosinfadahunsi/.pyenv/versions/3.10.0/lib/python3.10/site-packages (from farm-haystack==1.15.0rc0) (1.5.3)\n",
      "Requirement already satisfied: more-itertools in /Users/tosinfadahunsi/.pyenv/versions/3.10.0/lib/python3.10/site-packages (from farm-haystack==1.15.0rc0) (9.1.0)\n",
      "Requirement already satisfied: quantulum3 in /Users/tosinfadahunsi/.pyenv/versions/3.10.0/lib/python3.10/site-packages (from farm-haystack==1.15.0rc0) (0.8.1)\n",
      "Requirement already satisfied: rank-bm25 in /Users/tosinfadahunsi/.pyenv/versions/3.10.0/lib/python3.10/site-packages (from farm-haystack==1.15.0rc0) (0.2.2)\n",
      "Requirement already satisfied: python-docx in /Users/tosinfadahunsi/.pyenv/versions/3.10.0/lib/python3.10/site-packages (from farm-haystack==1.15.0rc0) (0.8.11)\n",
      "Requirement already satisfied: filelock in /Users/tosinfadahunsi/.pyenv/versions/3.10.0/lib/python3.10/site-packages (from transformers[torch]==4.25.1->farm-haystack==1.15.0rc0) (3.9.0)\n",
      "Requirement already satisfied: tokenizers!=0.11.3,<0.14,>=0.11.1 in /Users/tosinfadahunsi/.pyenv/versions/3.10.0/lib/python3.10/site-packages (from transformers[torch]==4.25.1->farm-haystack==1.15.0rc0) (0.13.2)\n",
      "Requirement already satisfied: numpy>=1.17 in /Users/tosinfadahunsi/.pyenv/versions/3.10.0/lib/python3.10/site-packages (from transformers[torch]==4.25.1->farm-haystack==1.15.0rc0) (1.23.5)\n",
      "Requirement already satisfied: regex!=2019.12.17 in /Users/tosinfadahunsi/.pyenv/versions/3.10.0/lib/python3.10/site-packages (from transformers[torch]==4.25.1->farm-haystack==1.15.0rc0) (2022.10.31)\n",
      "Requirement already satisfied: pyyaml>=5.1 in /Users/tosinfadahunsi/.pyenv/versions/3.10.0/lib/python3.10/site-packages (from transformers[torch]==4.25.1->farm-haystack==1.15.0rc0) (6.0)\n",
      "Requirement already satisfied: packaging>=20.0 in /Users/tosinfadahunsi/.pyenv/versions/3.10.0/lib/python3.10/site-packages (from transformers[torch]==4.25.1->farm-haystack==1.15.0rc0) (21.3)\n",
      "Requirement already satisfied: torch!=1.12.0,>=1.7 in /Users/tosinfadahunsi/.pyenv/versions/3.10.0/lib/python3.10/site-packages (from transformers[torch]==4.25.1->farm-haystack==1.15.0rc0) (1.13.1)\n",
      "Requirement already satisfied: msrest>=0.6.21 in /Users/tosinfadahunsi/.pyenv/versions/3.10.0/lib/python3.10/site-packages (from azure-ai-formrecognizer>=3.2.0b2->farm-haystack==1.15.0rc0) (0.7.1)\n",
      "Requirement already satisfied: azure-common~=1.1 in /Users/tosinfadahunsi/.pyenv/versions/3.10.0/lib/python3.10/site-packages (from azure-ai-formrecognizer>=3.2.0b2->farm-haystack==1.15.0rc0) (1.1.28)\n",
      "Requirement already satisfied: azure-core<2.0.0,>=1.23.0 in /Users/tosinfadahunsi/.pyenv/versions/3.10.0/lib/python3.10/site-packages (from azure-ai-formrecognizer>=3.2.0b2->farm-haystack==1.15.0rc0) (1.26.3)\n",
      "Requirement already satisfied: typing-extensions>=4.0.1 in /Users/tosinfadahunsi/.pyenv/versions/3.10.0/lib/python3.10/site-packages (from azure-ai-formrecognizer>=3.2.0b2->farm-haystack==1.15.0rc0) (4.4.0)\n",
      "Requirement already satisfied: urllib3<2,>=1.21.1 in /Users/tosinfadahunsi/.pyenv/versions/3.10.0/lib/python3.10/site-packages (from elasticsearch<8,>=7.7->farm-haystack==1.15.0rc0) (1.26.13)\n",
      "Requirement already satisfied: certifi in /Users/tosinfadahunsi/.pyenv/versions/3.10.0/lib/python3.10/site-packages (from elasticsearch<8,>=7.7->farm-haystack==1.15.0rc0) (2022.12.7)\n",
      "Requirement already satisfied: jarowinkler<2.0.0,>=1.2.0 in /Users/tosinfadahunsi/.pyenv/versions/3.10.0/lib/python3.10/site-packages (from rapidfuzz<2.8.0,>=2.0.15->farm-haystack==1.15.0rc0) (1.2.3)\n",
      "Requirement already satisfied: joblib>=1.1.1 in /Users/tosinfadahunsi/.pyenv/versions/3.10.0/lib/python3.10/site-packages (from scikit-learn>=1.0.0->farm-haystack==1.15.0rc0) (1.2.0)\n",
      "Requirement already satisfied: threadpoolctl>=2.0.0 in /Users/tosinfadahunsi/.pyenv/versions/3.10.0/lib/python3.10/site-packages (from scikit-learn>=1.0.0->farm-haystack==1.15.0rc0) (3.1.0)\n",
      "Requirement already satisfied: torchvision in /Users/tosinfadahunsi/.pyenv/versions/3.10.0/lib/python3.10/site-packages (from sentence-transformers>=2.2.0->farm-haystack==1.15.0rc0) (0.14.1)\n",
      "Requirement already satisfied: sentencepiece in /Users/tosinfadahunsi/.pyenv/versions/3.10.0/lib/python3.10/site-packages (from sentence-transformers>=2.2.0->farm-haystack==1.15.0rc0) (0.1.97)\n",
      "Requirement already satisfied: blobfile>=2 in /Users/tosinfadahunsi/.pyenv/versions/3.10.0/lib/python3.10/site-packages (from tiktoken>=0.2.0->farm-haystack==1.15.0rc0) (2.0.1)\n",
      "Requirement already satisfied: charset-normalizer<3,>=2 in /Users/tosinfadahunsi/.pyenv/versions/3.10.0/lib/python3.10/site-packages (from requests->farm-haystack==1.15.0rc0) (2.1.1)\n",
      "Requirement already satisfied: idna<4,>=2.5 in /Users/tosinfadahunsi/.pyenv/versions/3.10.0/lib/python3.10/site-packages (from requests->farm-haystack==1.15.0rc0) (3.4)\n",
      "Requirement already satisfied: pyrsistent!=0.17.0,!=0.17.1,!=0.17.2,>=0.14.0 in /Users/tosinfadahunsi/.pyenv/versions/3.10.0/lib/python3.10/site-packages (from jsonschema->farm-haystack==1.15.0rc0) (0.18.0)\n",
      "Requirement already satisfied: attrs>=17.4.0 in /Users/tosinfadahunsi/.pyenv/versions/3.10.0/lib/python3.10/site-packages (from jsonschema->farm-haystack==1.15.0rc0) (21.4.0)\n",
      "Requirement already satisfied: six in /Users/tosinfadahunsi/.pyenv/versions/3.10.0/lib/python3.10/site-packages (from langdetect->farm-haystack==1.15.0rc0) (1.16.0)\n",
      "Requirement already satisfied: shap<1,>=0.40 in /Users/tosinfadahunsi/.pyenv/versions/3.10.0/lib/python3.10/site-packages (from mlflow->farm-haystack==1.15.0rc0) (0.41.0)\n",
      "Requirement already satisfied: gunicorn<21 in /Users/tosinfadahunsi/.pyenv/versions/3.10.0/lib/python3.10/site-packages (from mlflow->farm-haystack==1.15.0rc0) (20.1.0)\n",
      "Requirement already satisfied: pyarrow<12,>=4.0.0 in /Users/tosinfadahunsi/.pyenv/versions/3.10.0/lib/python3.10/site-packages (from mlflow->farm-haystack==1.15.0rc0) (11.0.0)\n",
      "Requirement already satisfied: sqlparse<1,>=0.4.0 in /Users/tosinfadahunsi/.pyenv/versions/3.10.0/lib/python3.10/site-packages (from mlflow->farm-haystack==1.15.0rc0) (0.4.3)\n",
      "Requirement already satisfied: pytz<2023 in /Users/tosinfadahunsi/.pyenv/versions/3.10.0/lib/python3.10/site-packages (from mlflow->farm-haystack==1.15.0rc0) (2022.7.1)\n",
      "Requirement already satisfied: querystring-parser<2 in /Users/tosinfadahunsi/.pyenv/versions/3.10.0/lib/python3.10/site-packages (from mlflow->farm-haystack==1.15.0rc0) (1.2.4)\n",
      "Requirement already satisfied: Flask<3 in /Users/tosinfadahunsi/.pyenv/versions/3.10.0/lib/python3.10/site-packages (from mlflow->farm-haystack==1.15.0rc0) (2.2.3)\n",
      "Requirement already satisfied: docker<7,>=4.0.0 in /Users/tosinfadahunsi/.pyenv/versions/3.10.0/lib/python3.10/site-packages (from mlflow->farm-haystack==1.15.0rc0) (6.0.1)\n",
      "Requirement already satisfied: cloudpickle<3 in /Users/tosinfadahunsi/.pyenv/versions/3.10.0/lib/python3.10/site-packages (from mlflow->farm-haystack==1.15.0rc0) (2.2.1)\n",
      "Requirement already satisfied: Jinja2<4,>=2.11 in /Users/tosinfadahunsi/.pyenv/versions/3.10.0/lib/python3.10/site-packages (from mlflow->farm-haystack==1.15.0rc0) (3.0.3)\n",
      "Requirement already satisfied: databricks-cli<1,>=0.8.7 in /Users/tosinfadahunsi/.pyenv/versions/3.10.0/lib/python3.10/site-packages (from mlflow->farm-haystack==1.15.0rc0) (0.17.4)\n",
      "Requirement already satisfied: entrypoints<1 in /Users/tosinfadahunsi/.pyenv/versions/3.10.0/lib/python3.10/site-packages (from mlflow->farm-haystack==1.15.0rc0) (0.3)\n",
      "Requirement already satisfied: importlib-metadata!=4.7.0,<7,>=3.7.0 in /Users/tosinfadahunsi/.pyenv/versions/3.10.0/lib/python3.10/site-packages (from mlflow->farm-haystack==1.15.0rc0) (6.0.0)\n",
      "Requirement already satisfied: markdown<4,>=3.3 in /Users/tosinfadahunsi/.pyenv/versions/3.10.0/lib/python3.10/site-packages (from mlflow->farm-haystack==1.15.0rc0) (3.4.1)\n",
      "Requirement already satisfied: matplotlib<4 in /Users/tosinfadahunsi/.pyenv/versions/3.10.0/lib/python3.10/site-packages (from mlflow->farm-haystack==1.15.0rc0) (3.6.3)\n",
      "Requirement already satisfied: gitpython<4,>=2.1.0 in /Users/tosinfadahunsi/.pyenv/versions/3.10.0/lib/python3.10/site-packages (from mlflow->farm-haystack==1.15.0rc0) (3.1.31)\n",
      "Requirement already satisfied: alembic<2 in /Users/tosinfadahunsi/.pyenv/versions/3.10.0/lib/python3.10/site-packages (from mlflow->farm-haystack==1.15.0rc0) (1.9.4)\n",
      "Requirement already satisfied: click<9,>=7.0 in /Users/tosinfadahunsi/.pyenv/versions/3.10.0/lib/python3.10/site-packages (from mlflow->farm-haystack==1.15.0rc0) (8.0.3)\n",
      "Requirement already satisfied: sqlalchemy<3,>=1.4.0 in /Users/tosinfadahunsi/.pyenv/versions/3.10.0/lib/python3.10/site-packages (from mlflow->farm-haystack==1.15.0rc0) (2.0.4)\n",
      "Requirement already satisfied: python-dateutil>=2.8.1 in /Users/tosinfadahunsi/.pyenv/versions/3.10.0/lib/python3.10/site-packages (from pandas->farm-haystack==1.15.0rc0) (2.8.2)\n",
      "Requirement already satisfied: monotonic>=1.5 in /Users/tosinfadahunsi/.pyenv/versions/3.10.0/lib/python3.10/site-packages (from posthog->farm-haystack==1.15.0rc0) (1.6)\n",
      "Requirement already satisfied: backoff>=1.10.0 in /Users/tosinfadahunsi/.pyenv/versions/3.10.0/lib/python3.10/site-packages (from posthog->farm-haystack==1.15.0rc0) (2.2.1)\n",
      "Requirement already satisfied: lxml>=2.3.2 in /Users/tosinfadahunsi/.pyenv/versions/3.10.0/lib/python3.10/site-packages (from python-docx->farm-haystack==1.15.0rc0) (4.9.2)\n",
      "Requirement already satisfied: inflect in /Users/tosinfadahunsi/.pyenv/versions/3.10.0/lib/python3.10/site-packages (from quantulum3->farm-haystack==1.15.0rc0) (6.0.2)\n",
      "Requirement already satisfied: num2words in /Users/tosinfadahunsi/.pyenv/versions/3.10.0/lib/python3.10/site-packages (from quantulum3->farm-haystack==1.15.0rc0) (0.5.12)\n",
      "Requirement already satisfied: setuptools in /Users/tosinfadahunsi/.pyenv/versions/3.10.0/lib/python3.10/site-packages (from tika->farm-haystack==1.15.0rc0) (57.4.0)\n",
      "Requirement already satisfied: Mako in /Users/tosinfadahunsi/.pyenv/versions/3.10.0/lib/python3.10/site-packages (from alembic<2->mlflow->farm-haystack==1.15.0rc0) (1.2.4)\n",
      "Requirement already satisfied: pycryptodomex~=3.8 in /Users/tosinfadahunsi/.pyenv/versions/3.10.0/lib/python3.10/site-packages (from blobfile>=2->tiktoken>=0.2.0->farm-haystack==1.15.0rc0) (3.17)\n",
      "Requirement already satisfied: pyjwt>=1.7.0 in /Users/tosinfadahunsi/.pyenv/versions/3.10.0/lib/python3.10/site-packages (from databricks-cli<1,>=0.8.7->mlflow->farm-haystack==1.15.0rc0) (2.6.0)\n",
      "Requirement already satisfied: oauthlib>=3.1.0 in /Users/tosinfadahunsi/.pyenv/versions/3.10.0/lib/python3.10/site-packages (from databricks-cli<1,>=0.8.7->mlflow->farm-haystack==1.15.0rc0) (3.2.2)\n",
      "Requirement already satisfied: tabulate>=0.7.7 in /Users/tosinfadahunsi/.pyenv/versions/3.10.0/lib/python3.10/site-packages (from databricks-cli<1,>=0.8.7->mlflow->farm-haystack==1.15.0rc0) (0.9.0)\n",
      "Requirement already satisfied: websocket-client>=0.32.0 in /Users/tosinfadahunsi/.pyenv/versions/3.10.0/lib/python3.10/site-packages (from docker<7,>=4.0.0->mlflow->farm-haystack==1.15.0rc0) (1.5.1)\n",
      "Requirement already satisfied: itsdangerous>=2.0 in /Users/tosinfadahunsi/.pyenv/versions/3.10.0/lib/python3.10/site-packages (from Flask<3->mlflow->farm-haystack==1.15.0rc0) (2.1.2)\n",
      "Requirement already satisfied: Werkzeug>=2.2.2 in /Users/tosinfadahunsi/.pyenv/versions/3.10.0/lib/python3.10/site-packages (from Flask<3->mlflow->farm-haystack==1.15.0rc0) (2.2.3)\n",
      "Requirement already satisfied: gitdb<5,>=4.0.1 in /Users/tosinfadahunsi/.pyenv/versions/3.10.0/lib/python3.10/site-packages (from gitpython<4,>=2.1.0->mlflow->farm-haystack==1.15.0rc0) (4.0.10)\n",
      "Requirement already satisfied: zipp>=0.5 in /Users/tosinfadahunsi/.pyenv/versions/3.10.0/lib/python3.10/site-packages (from importlib-metadata!=4.7.0,<7,>=3.7.0->mlflow->farm-haystack==1.15.0rc0) (3.15.0)\n",
      "Requirement already satisfied: MarkupSafe>=2.0 in /Users/tosinfadahunsi/.pyenv/versions/3.10.0/lib/python3.10/site-packages (from Jinja2<4,>=2.11->mlflow->farm-haystack==1.15.0rc0) (2.1.2)\n",
      "Requirement already satisfied: pyparsing>=2.2.1 in /Users/tosinfadahunsi/.pyenv/versions/3.10.0/lib/python3.10/site-packages (from matplotlib<4->mlflow->farm-haystack==1.15.0rc0) (3.0.6)\n",
      "Requirement already satisfied: contourpy>=1.0.1 in /Users/tosinfadahunsi/.pyenv/versions/3.10.0/lib/python3.10/site-packages (from matplotlib<4->mlflow->farm-haystack==1.15.0rc0) (1.0.7)\n",
      "Requirement already satisfied: pillow>=6.2.0 in /Users/tosinfadahunsi/.pyenv/versions/3.10.0/lib/python3.10/site-packages (from matplotlib<4->mlflow->farm-haystack==1.15.0rc0) (9.4.0)\n",
      "Requirement already satisfied: kiwisolver>=1.0.1 in /Users/tosinfadahunsi/.pyenv/versions/3.10.0/lib/python3.10/site-packages (from matplotlib<4->mlflow->farm-haystack==1.15.0rc0) (1.4.4)\n",
      "Requirement already satisfied: cycler>=0.10 in /Users/tosinfadahunsi/.pyenv/versions/3.10.0/lib/python3.10/site-packages (from matplotlib<4->mlflow->farm-haystack==1.15.0rc0) (0.11.0)\n",
      "Requirement already satisfied: fonttools>=4.22.0 in /Users/tosinfadahunsi/.pyenv/versions/3.10.0/lib/python3.10/site-packages (from matplotlib<4->mlflow->farm-haystack==1.15.0rc0) (4.38.0)\n",
      "Requirement already satisfied: requests-oauthlib>=0.5.0 in /Users/tosinfadahunsi/.pyenv/versions/3.10.0/lib/python3.10/site-packages (from msrest>=0.6.21->azure-ai-formrecognizer>=3.2.0b2->farm-haystack==1.15.0rc0) (1.3.1)\n",
      "Requirement already satisfied: isodate>=0.6.0 in /Users/tosinfadahunsi/.pyenv/versions/3.10.0/lib/python3.10/site-packages (from msrest>=0.6.21->azure-ai-formrecognizer>=3.2.0b2->farm-haystack==1.15.0rc0) (0.6.1)\n",
      "Requirement already satisfied: slicer==0.0.7 in /Users/tosinfadahunsi/.pyenv/versions/3.10.0/lib/python3.10/site-packages (from shap<1,>=0.40->mlflow->farm-haystack==1.15.0rc0) (0.0.7)\n",
      "Requirement already satisfied: numba in /Users/tosinfadahunsi/.pyenv/versions/3.10.0/lib/python3.10/site-packages (from shap<1,>=0.40->mlflow->farm-haystack==1.15.0rc0) (0.56.4)\n",
      "Requirement already satisfied: docopt>=0.6.2 in /Users/tosinfadahunsi/.pyenv/versions/3.10.0/lib/python3.10/site-packages (from num2words->quantulum3->farm-haystack==1.15.0rc0) (0.6.2)\n",
      "Requirement already satisfied: smmap<6,>=3.0.1 in /Users/tosinfadahunsi/.pyenv/versions/3.10.0/lib/python3.10/site-packages (from gitdb<5,>=4.0.1->gitpython<4,>=2.1.0->mlflow->farm-haystack==1.15.0rc0) (5.0.0)\n",
      "Requirement already satisfied: llvmlite<0.40,>=0.39.0dev0 in /Users/tosinfadahunsi/.pyenv/versions/3.10.0/lib/python3.10/site-packages (from numba->shap<1,>=0.40->mlflow->farm-haystack==1.15.0rc0) (0.39.1)\n"
     ]
    }
   ],
   "source": [
    "!pip install git+https://github.com/deepset-ai/haystack.git"
   ]
  },
  {
   "cell_type": "code",
   "execution_count": 9,
   "metadata": {},
   "outputs": [],
   "source": [
    "import logging\n"
   ]
  },
  {
   "cell_type": "code",
   "execution_count": 10,
   "metadata": {},
   "outputs": [],
   "source": [
    "logging.basicConfig(format=\"%(levelname)s - %(name)s -  %(message)s\", level=logging.WARNING)\n",
    "logging.getLogger(\"haystack\").setLevel(logging.INFO)\n"
   ]
  },
  {
   "cell_type": "code",
   "execution_count": 2,
   "metadata": {},
   "outputs": [
    {
     "name": "stdout",
     "output_type": "stream",
     "text": [
      "\u001b[34m==>\u001b[0m \u001b[1mDownloading https://formulae.brew.sh/api/formula.jws.json\u001b[0m\n",
      "######################################################################## 100.0%\n",
      "\u001b[34m==>\u001b[0m \u001b[1mDownloading https://formulae.brew.sh/api/cask.jws.json\u001b[0m\n",
      "######################################################################## 100.0%\n",
      "\u001b[32m==>\u001b[0m \u001b[1mFetching dependencies for llvm: \u001b[32mopenssl@1.1\u001b[39m, \u001b[32msqlite\u001b[39m, \u001b[32mpython@3.11\u001b[39m and \u001b[32mzstd\u001b[39m\u001b[0m\n",
      "\u001b[32m==>\u001b[0m \u001b[1mFetching \u001b[32mopenssl@1.1\u001b[39m\u001b[0m\n",
      "\u001b[34m==>\u001b[0m \u001b[1mDownloading https://ghcr.io/v2/homebrew/core/openssl/1.1/manifests/1.1.1t\u001b[0m\n",
      "######################################################################## 100.0%\n",
      "\u001b[34m==>\u001b[0m \u001b[1mDownloading https://ghcr.io/v2/homebrew/core/openssl/1.1/blobs/sha256:e1e08d\u001b[0m\n",
      "\u001b[34m==>\u001b[0m \u001b[1mDownloading from https://pkg-containers.githubusercontent.com/ghcr1/blobs/sh\u001b[0m\n",
      "######################################################################## 100.0%\n",
      "\u001b[32m==>\u001b[0m \u001b[1mFetching \u001b[32msqlite\u001b[39m\u001b[0m\n",
      "\u001b[34m==>\u001b[0m \u001b[1mDownloading https://ghcr.io/v2/homebrew/core/sqlite/manifests/3.41.0\u001b[0m\n",
      "Already downloaded: /Users/tosinfadahunsi/Library/Caches/Homebrew/downloads/19202efbc509ad22113d571d4b2aaa86fdbf2e3c5299fde49c6a0bb41d9b0328--sqlite-3.41.0.bottle_manifest.json\n",
      "\u001b[34m==>\u001b[0m \u001b[1mDownloading https://ghcr.io/v2/homebrew/core/sqlite/blobs/sha256:72073c161c9\u001b[0m\n",
      "\u001b[34m==>\u001b[0m \u001b[1mDownloading from https://pkg-containers.githubusercontent.com/ghcr1/blobs/sh\u001b[0m\n",
      "######################################################################## 100.0%\n",
      "\u001b[32m==>\u001b[0m \u001b[1mFetching \u001b[32mpython@3.11\u001b[39m\u001b[0m\n",
      "\u001b[34m==>\u001b[0m \u001b[1mDownloading https://ghcr.io/v2/homebrew/core/python/3.11/manifests/3.11.2_1\u001b[0m\n",
      "######################################################################## 100.0%\n",
      "\u001b[34m==>\u001b[0m \u001b[1mDownloading https://ghcr.io/v2/homebrew/core/python/3.11/blobs/sha256:ecbb2a\u001b[0m\n",
      "\u001b[34m==>\u001b[0m \u001b[1mDownloading from https://pkg-containers.githubusercontent.com/ghcr1/blobs/sh\u001b[0m\n",
      "######################################################################## 100.0%\n",
      "\u001b[32m==>\u001b[0m \u001b[1mFetching \u001b[32mzstd\u001b[39m\u001b[0m\n",
      "\u001b[34m==>\u001b[0m \u001b[1mDownloading https://ghcr.io/v2/homebrew/core/zstd/manifests/1.5.4\u001b[0m\n",
      "Already downloaded: /Users/tosinfadahunsi/Library/Caches/Homebrew/downloads/e6303c6a4e2fa961cb687230d6bcc920e3d056abe81ee48027406f24117d8f01--zstd-1.5.4.bottle_manifest.json\n",
      "\u001b[34m==>\u001b[0m \u001b[1mDownloading https://ghcr.io/v2/homebrew/core/zstd/blobs/sha256:0d9bceb9cfaea\u001b[0m\n",
      "\u001b[34m==>\u001b[0m \u001b[1mDownloading from https://pkg-containers.githubusercontent.com/ghcr1/blobs/sh\u001b[0m\n",
      "######################################################################## 100.0%\n",
      "\u001b[32m==>\u001b[0m \u001b[1mFetching \u001b[32mllvm\u001b[39m\u001b[0m\n",
      "\u001b[34m==>\u001b[0m \u001b[1mDownloading https://ghcr.io/v2/homebrew/core/llvm/manifests/15.0.7_1\u001b[0m\n",
      "Already downloaded: /Users/tosinfadahunsi/Library/Caches/Homebrew/downloads/0fc2b913bd2634a940b2eb959cdf8f9e4b516b4f43d7aa6c98a00feffc27bb9c--llvm-15.0.7_1.bottle_manifest.json\n",
      "\u001b[34m==>\u001b[0m \u001b[1mDownloading https://ghcr.io/v2/homebrew/core/llvm/blobs/sha256:a6f590fc4700b\u001b[0m\n",
      "\u001b[34m==>\u001b[0m \u001b[1mDownloading from https://pkg-containers.githubusercontent.com/ghcr1/blobs/sh\u001b[0m\n",
      "##################                                                        25.2%^C\n",
      "\n"
     ]
    }
   ],
   "source": [
    "!arch -arm64 brew install llvm\n"
   ]
  },
  {
   "cell_type": "code",
   "execution_count": 14,
   "metadata": {},
   "outputs": [
    {
     "name": "stdout",
     "output_type": "stream",
     "text": [
      "Password:\n",
      "sudo: a password is required\n"
     ]
    }
   ],
   "source": [
    "! sudo gem install ffi"
   ]
  },
  {
   "cell_type": "code",
   "execution_count": 16,
   "metadata": {},
   "outputs": [
    {
     "name": "stdout",
     "output_type": "stream",
     "text": [
      "Uninstalling /opt/homebrew/Cellar/llvm/15.0.7_1... (6,411 files, 1.3GB)\n"
     ]
    }
   ],
   "source": [
    "!brew uninstall llvm"
   ]
  },
  {
   "cell_type": "code",
   "execution_count": 4,
   "metadata": {},
   "outputs": [
    {
     "name": "stdout",
     "output_type": "stream",
     "text": [
      "Running `brew update --auto-update`...\n",
      "\u001b[34m==>\u001b[0m \u001b[1mHomebrew is run entirely by unpaid volunteers. Please consider donating:\u001b[0m\n",
      "  \u001b[4mhttps://github.com/Homebrew/brew#donations\u001b[24m\n",
      "\n",
      "\u001b[34m==>\u001b[0m \u001b[1mAuto-updated Homebrew!\u001b[0m\n",
      "Updated 1 tap (homebrew/core).\n",
      "\u001b[34m==>\u001b[0m \u001b[1mNew Formulae\u001b[0m\n",
      "ocmtoc\n",
      "\n",
      "\u001b[34m==>\u001b[0m \u001b[1mTapping homebrew/cask\u001b[0m\n",
      "Cloning into '/usr/local/homebrew/Library/Taps/homebrew/homebrew-cask'...\n",
      "remote: Enumerating objects: 712557, done.\u001b[K\n",
      "remote: Counting objects: 100% (29/29), done.\u001b[K\n",
      "remote: Compressing objects: 100% (27/27), done.\u001b[K\n",
      "remote: Total 712557 (delta 12), reused 8 (delta 2), pack-reused 712528\u001b[K\n",
      "Receiving objects: 100% (712557/712557), 334.22 MiB | 16.09 MiB/s, done.\n",
      "Resolving deltas: 100% (506852/506852), done.\n",
      "Tapped 4171 casks (4,243 files, 356.9MB).\n",
      "\u001b[33mWarning:\u001b[0m No available formula with the name \"llv\". Did you mean llvm, lilv or luv?\n",
      "\u001b[34m==>\u001b[0m \u001b[1mSearching for similarly named formulae and casks...\u001b[0m\n",
      "\u001b[34m==>\u001b[0m \u001b[1mFormulae\u001b[0m\n",
      "cargo-llvm-lines           llvm@14                    wllvm\n",
      "\u001b[1mllvm \u001b[32m✔\u001b[0m\u001b[0m                     llvm@7                     lilv\n",
      "llvm@11                    llvm@8                     luv\n",
      "llvm@12                    llvm@9\n",
      "llvm@13                    spirv-llvm-translator\n",
      "\n",
      "To install cargo-llvm-lines, run:\n",
      "  brew install cargo-llvm-lines\n",
      "\n",
      "\u001b[34m==>\u001b[0m \u001b[1mCasks\u001b[0m\n",
      "mullvadvpn                               tlv\n",
      "\n",
      "To install mullvadvpn, run:\n",
      "  brew install --cask mullvadvpn\n"
     ]
    }
   ],
   "source": [
    "!arch -x86_64 /usr/local/homebrew/bin/brew install llv"
   ]
  },
  {
   "cell_type": "code",
   "execution_count": 5,
   "metadata": {},
   "outputs": [
    {
     "name": "stdout",
     "output_type": "stream",
     "text": [
      "Running `brew update --auto-update`...\n",
      "\u001b[34m==>\u001b[0m \u001b[1mAuto-updated Homebrew!\u001b[0m\n",
      "Updated 2 taps (homebrew/core and homebrew/cask).\n",
      "\u001b[34m==>\u001b[0m \u001b[1mNew Formulae\u001b[0m\n",
      "ocmtoc\n",
      "\n",
      "You have \u001b[1m20\u001b[0m outdated formulae installed.\n",
      "You can upgrade them with \u001b[1mbrew upgrade\u001b[0m\n",
      "or list them with \u001b[1mbrew outdated\u001b[0m.\n",
      "\n",
      "\u001b[34m==>\u001b[0m \u001b[1mDownloading https://github.com/mullvad/mullvadvpn-app/releases/download/2023\u001b[0m\n",
      "\u001b[34m==>\u001b[0m \u001b[1mDownloading from https://objects.githubusercontent.com/github-production-rel\u001b[0m\n",
      "######################################################################## 100.0%\n",
      "\u001b[32m==>\u001b[0m \u001b[1mInstalling Cask \u001b[32mmullvadvpn\u001b[39m\u001b[0m\n",
      "\u001b[34m==>\u001b[0m \u001b[1mRunning installer for mullvadvpn; your password may be necessary.\u001b[0m\n",
      "Package installers may write to any location; options such as `--appdir` are ignored.\n",
      "Password:\n",
      "\n"
     ]
    }
   ],
   "source": [
    "!brew install --cask mullvadvpn"
   ]
  },
  {
   "cell_type": "code",
   "execution_count": 8,
   "metadata": {},
   "outputs": [
    {
     "name": "stdout",
     "output_type": "stream",
     "text": [
      "Requirement already satisfied: scipy in /Users/tosinfadahunsi/.pyenv/versions/3.10.0/lib/python3.10/site-packages (1.10.0)\n",
      "Requirement already satisfied: numpy<1.27.0,>=1.19.5 in /Users/tosinfadahunsi/.pyenv/versions/3.10.0/lib/python3.10/site-packages (from scipy) (1.23.5)\n"
     ]
    }
   ],
   "source": [
    "!pip install scipy"
   ]
  },
  {
   "cell_type": "code",
   "execution_count": 9,
   "metadata": {},
   "outputs": [
    {
     "ename": "ImportError",
     "evalue": "dlopen(/Users/tosinfadahunsi/.pyenv/versions/3.10.0/lib/python3.10/site-packages/mmh3.cpython-310-darwin.so, 0x0002): tried: '/Users/tosinfadahunsi/.pyenv/versions/3.10.0/lib/python3.10/site-packages/mmh3.cpython-310-darwin.so' (mach-o file, but is an incompatible architecture (have 'x86_64', need 'arm64')), '/System/Volumes/Preboot/Cryptexes/OS/Users/tosinfadahunsi/.pyenv/versions/3.10.0/lib/python3.10/site-packages/mmh3.cpython-310-darwin.so' (no such file), '/Users/tosinfadahunsi/.pyenv/versions/3.10.0/lib/python3.10/site-packages/mmh3.cpython-310-darwin.so' (mach-o file, but is an incompatible architecture (have 'x86_64', need 'arm64'))",
     "output_type": "error",
     "traceback": [
      "\u001b[0;31m---------------------------------------------------------------------------\u001b[0m",
      "\u001b[0;31mImportError\u001b[0m                               Traceback (most recent call last)",
      "\u001b[1;32m/Users/tosinfadahunsi/Documents/UCLCompSci /Year 2/COMP0016 - Systems/COMP0016-Team-3/src/Training/training_QA.ipynb Cell 12\u001b[0m in \u001b[0;36m<module>\u001b[0;34m\u001b[0m\n\u001b[0;32m----> <a href='vscode-notebook-cell:/Users/tosinfadahunsi/Documents/UCLCompSci%20/Year%202/COMP0016%20-%20Systems/COMP0016-Team-3/src/Training/training_QA.ipynb#X12sZmlsZQ%3D%3D?line=0'>1</a>\u001b[0m \u001b[39mfrom\u001b[39;00m \u001b[39mhaystack\u001b[39;00m\u001b[39m.\u001b[39;00m\u001b[39mnodes\u001b[39;00m \u001b[39mimport\u001b[39;00m FARMReader\n\u001b[1;32m      <a href='vscode-notebook-cell:/Users/tosinfadahunsi/Documents/UCLCompSci%20/Year%202/COMP0016%20-%20Systems/COMP0016-Team-3/src/Training/training_QA.ipynb#X12sZmlsZQ%3D%3D?line=1'>2</a>\u001b[0m \u001b[39mfrom\u001b[39;00m \u001b[39mhaystack\u001b[39;00m\u001b[39m.\u001b[39;00m\u001b[39mutils\u001b[39;00m \u001b[39mimport\u001b[39;00m fetch_archive_from_http\n",
      "File \u001b[0;32m~/.pyenv/versions/3.10.0/lib/python3.10/site-packages/haystack/__init__.py:20\u001b[0m, in \u001b[0;36m<module>\u001b[0;34m\u001b[0m\n\u001b[1;32m     16\u001b[0m \u001b[39mimport\u001b[39;00m \u001b[39mlogging\u001b[39;00m\n\u001b[1;32m     18\u001b[0m \u001b[39mimport\u001b[39;00m \u001b[39mpandas\u001b[39;00m \u001b[39mas\u001b[39;00m \u001b[39mpd\u001b[39;00m\n\u001b[0;32m---> 20\u001b[0m \u001b[39mfrom\u001b[39;00m \u001b[39mhaystack\u001b[39;00m\u001b[39m.\u001b[39;00m\u001b[39mschema\u001b[39;00m \u001b[39mimport\u001b[39;00m Document, Answer, Label, MultiLabel, Span, EvaluationResult\n\u001b[1;32m     21\u001b[0m \u001b[39mfrom\u001b[39;00m \u001b[39mhaystack\u001b[39;00m\u001b[39m.\u001b[39;00m\u001b[39mnodes\u001b[39;00m\u001b[39m.\u001b[39;00m\u001b[39mbase\u001b[39;00m \u001b[39mimport\u001b[39;00m BaseComponent\n\u001b[1;32m     22\u001b[0m \u001b[39mfrom\u001b[39;00m \u001b[39mhaystack\u001b[39;00m\u001b[39m.\u001b[39;00m\u001b[39mpipelines\u001b[39;00m\u001b[39m.\u001b[39;00m\u001b[39mbase\u001b[39;00m \u001b[39mimport\u001b[39;00m Pipeline\n",
      "File \u001b[0;32m~/.pyenv/versions/3.10.0/lib/python3.10/site-packages/haystack/schema.py:21\u001b[0m, in \u001b[0;36m<module>\u001b[0;34m\u001b[0m\n\u001b[1;32m     18\u001b[0m \u001b[39mimport\u001b[39;00m \u001b[39mast\u001b[39;00m\n\u001b[1;32m     19\u001b[0m \u001b[39mfrom\u001b[39;00m \u001b[39mdataclasses\u001b[39;00m \u001b[39mimport\u001b[39;00m asdict\n\u001b[0;32m---> 21\u001b[0m \u001b[39mimport\u001b[39;00m \u001b[39mmmh3\u001b[39;00m\n\u001b[1;32m     22\u001b[0m \u001b[39mimport\u001b[39;00m \u001b[39mnumpy\u001b[39;00m \u001b[39mas\u001b[39;00m \u001b[39mnp\u001b[39;00m\n\u001b[1;32m     23\u001b[0m \u001b[39mimport\u001b[39;00m \u001b[39mpandas\u001b[39;00m \u001b[39mas\u001b[39;00m \u001b[39mpd\u001b[39;00m\n",
      "\u001b[0;31mImportError\u001b[0m: dlopen(/Users/tosinfadahunsi/.pyenv/versions/3.10.0/lib/python3.10/site-packages/mmh3.cpython-310-darwin.so, 0x0002): tried: '/Users/tosinfadahunsi/.pyenv/versions/3.10.0/lib/python3.10/site-packages/mmh3.cpython-310-darwin.so' (mach-o file, but is an incompatible architecture (have 'x86_64', need 'arm64')), '/System/Volumes/Preboot/Cryptexes/OS/Users/tosinfadahunsi/.pyenv/versions/3.10.0/lib/python3.10/site-packages/mmh3.cpython-310-darwin.so' (no such file), '/Users/tosinfadahunsi/.pyenv/versions/3.10.0/lib/python3.10/site-packages/mmh3.cpython-310-darwin.so' (mach-o file, but is an incompatible architecture (have 'x86_64', need 'arm64'))"
     ]
    }
   ],
   "source": [
    "from haystack.nodes import FARMReader\n",
    "from haystack.utils import fetch_archive_from_http"
   ]
  }
 ],
 "metadata": {
  "kernelspec": {
   "display_name": "Python 3",
   "language": "python",
   "name": "python3"
  },
  "language_info": {
   "codemirror_mode": {
    "name": "ipython",
    "version": 3
   },
   "file_extension": ".py",
   "mimetype": "text/x-python",
   "name": "python",
   "nbconvert_exporter": "python",
   "pygments_lexer": "ipython3",
   "version": "3.10.0"
  },
  "orig_nbformat": 4,
  "vscode": {
   "interpreter": {
    "hash": "1154a9b27fc3a73b66bace9bb1f9078851fa1c44c36302049542392f5aadafcb"
   }
  }
 },
 "nbformat": 4,
 "nbformat_minor": 2
}
