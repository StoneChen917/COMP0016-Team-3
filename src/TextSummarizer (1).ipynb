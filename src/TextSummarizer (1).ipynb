{
  "cells": [
    {
      "cell_type": "code",
      "execution_count": null,
      "metadata": {
        "id": "5asckqLAXzvB"
      },
      "outputs": [],
      "source": [
        "import spacy\n",
        "from spacy.lang.en.stop_words import STOP_WORDS\n",
        "from string import punctuation\n",
        "from heapq import nlargest"
      ]
    },
    {
      "cell_type": "code",
      "execution_count": null,
      "metadata": {
        "id": "508zR-AAYHfz"
      },
      "outputs": [],
      "source": [
        "!python3 -m spacy download en_core_web_lg\n",
        "def summarize(text, per):\n",
        "    nlp = spacy.load('en_core_web_lg')\n",
        "    doc= nlp(text)\n",
        "    tokens=[token.text for token in doc]\n",
        "    word_frequencies={}\n",
        "    for word in doc:\n",
        "        if word.text.lower() not in list(STOP_WORDS):\n",
        "            if word.text.lower() not in punctuation:\n",
        "                if word.text not in word_frequencies.keys():\n",
        "                    word_frequencies[word.text] = 1\n",
        "                else:\n",
        "                    word_frequencies[word.text] += 1\n",
        "    max_frequency=max(word_frequencies.values())\n",
        "    for word in word_frequencies.keys():\n",
        "        word_frequencies[word]=word_frequencies[word]/max_frequency\n",
        "    sentence_tokens= [sent for sent in doc.sents]\n",
        "    sentence_scores = {}\n",
        "    for sent in sentence_tokens:\n",
        "        for word in sent:\n",
        "            if word.text.lower() in word_frequencies.keys():\n",
        "                if sent not in sentence_scores.keys():                            \n",
        "                    sentence_scores[sent]=word_frequencies[word.text.lower()]\n",
        "                else:\n",
        "                    sentence_scores[sent]+=word_frequencies[word.text.lower()]\n",
        "    select_length=int(len(sentence_tokens)*per)\n",
        "    summary=nlargest(select_length, sentence_scores,key=sentence_scores.get)\n",
        "    return summary   \n",
        "    # final_summary=[word.text for word in summary]\n",
        "    # summary=''.join(final_summary)\n",
        "    # return summary"
      ]
    },
    {
      "cell_type": "code",
      "execution_count": null,
      "metadata": {
        "id": "KLMhSev1SrmQ"
      },
      "outputs": [],
      "source": [
        "# importing required modules\n",
        "!pip install PyPDF2\n",
        "from PyPDF2 import PdfReader\n",
        "\n",
        "# creating a pdf file object\n",
        "pdfFileObj = open('/content/MDRRW014dfr.pdf', 'rb')\n",
        "\n",
        "# creating a pdf reader object\n",
        "pdfReader = PdfReader(pdfFileObj)\n",
        "\n",
        "# printing number of pages in pdf file\n",
        "print(len(pdfReader.pages))\n",
        "\n",
        "# creating a page object\n",
        "pageObj = pdfReader.pages[6]\n",
        "\n",
        "# extracting text from page\n",
        "context = pageObj.extract_text()\n",
        "\n",
        "# closing the pdf file object\n",
        "pdfFileObj.close()\n",
        "\n",
        "#context = \"Archaeologists say they have found a gold leaf-covered mummy sealed inside a sarcophagus that had not been opened for 4,300 years. The mummy, the remains of a man named Hekashepes, is thought to be one of the oldest and most complete non-royal corpses ever found in Egypt. It was discovered down a 15m (50ft) shaft at a burial site south of Cairo, Saqqara, where three other tombs were found. One tomb belonged to a secret keeper. The largest of the mummies that were unearthed at the ancient necropolis is said to belong to a man called Khnumdjedef - a priest, inspector and supervisor of nobles. Another belonged to a man called Meri, who was a senior palace official given the title of secret keeper, which allowed him to perform special religious rituals. A judge and writer named Fetek is thought to have been laid to rest in the other tomb, where a collection of what are thought to be the largest statues ever found in the area had been discovered. Several other items, including pottery, have also been found among the tombs. Archaeologist Zahi Hawass, Egypt's former antiquities minister, has said all the discoveries date from around the 25th to the 22nd centuries BC. This discovery is so important as it connects the kings with the people living around them, said Ali Abu Deshish, another archaeologist involved in the excavation. Saqqara was an active burial ground for more than 3,000 years and is a designated Unesco World Heritage Site. It sits at what was the ancient Egyptian capital Memphis and is home to more than a dozen pyramids - including the Step Pyramid, near where the shaft containing the mummy was found. Thursday's discovery comes just a day after experts in the southern Egyptian city of Luxor said they had discovered a complete residential city from the Roman era, dating back to the second and third centuries AD. Archaeologists found residential buildings, towers and what they've called metal workshops - containing pots, tools and Roman coins. Egypt has unveiled many major archaeological discoveries in recent years, as part of efforts to revive its tourism industry. The government hopes its Grand Egyptian Museum, which is due to open this year following delays, will draw in 30 million tourists a year by 2028. But, critics have accused Egypt's government of prioritising media-grabbing finds over hard academic research in order to attract more tourism.\"\n",
        "\n",
        "summary = summarize(context, 0.5)\n",
        "\n",
        "print(summary)"
      ]
    }
  ],
  "metadata": {
    "colab": {
      "private_outputs": true,
      "provenance": []
    },
    "gpuClass": "standard",
    "kernelspec": {
      "display_name": "Python 3",
      "language": "python",
      "name": "python3"
    },
    "language_info": {
      "name": "python",
      "version": "3.10.2 (tags/v3.10.2:a58ebcc, Jan 17 2022, 14:12:15) [MSC v.1929 64 bit (AMD64)]"
    },
    "vscode": {
      "interpreter": {
        "hash": "369f2c481f4da34e4445cda3fffd2e751bd1c4d706f27375911949ba6bb62e1c"
      }
    }
  },
  "nbformat": 4,
  "nbformat_minor": 0
}
