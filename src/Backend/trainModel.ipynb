{
 "cells": [
  {
   "cell_type": "code",
   "execution_count": null,
   "metadata": {},
   "outputs": [],
   "source": [
    "!python -m spacy download en_core_web_lg\n"
   ]
  },
  {
   "cell_type": "code",
   "execution_count": null,
   "metadata": {},
   "outputs": [],
   "source": [
    "import spacy\n",
    "\n",
    "nlp = spacy.load(\"en_core_web_lg\")\n",
    "\n",
    "with open(\"ex1.txt\", \"r\") as f:\n",
    "    text = f.read()\n",
    "\n",
    "doc = nlp(text)\n",
    "\n",
    "\n",
    "for ent in doc.ents:\n",
    "    print(ent.text, ent.label_)"
   ]
  },
  {
   "cell_type": "code",
   "execution_count": null,
   "metadata": {},
   "outputs": [],
   "source": [
    "# display\n",
    "from spacy import displacy\n",
    "displacy.render(doc, style =\"ent\")"
   ]
  },
  {
   "cell_type": "code",
   "execution_count": null,
   "metadata": {},
   "outputs": [],
   "source": [
    "# using json file\n",
    "\n",
    "import json\n",
    "with open(\"annotations.json\", \"r\") as f:\n",
    "    data = json.load(f)"
   ]
  },
  {
   "cell_type": "code",
   "execution_count": null,
   "metadata": {},
   "outputs": [],
   "source": [
    "# has 2 keys: 'classes', 'annotations'\n",
    "data"
   ]
  },
  {
   "cell_type": "code",
   "execution_count": null,
   "metadata": {},
   "outputs": [],
   "source": [
    "# is the list of tags: ['ADMIN_1', 'ADMIN_2', 'DISASTER']\n",
    "data['classes']"
   ]
  },
  {
   "cell_type": "code",
   "execution_count": null,
   "metadata": {},
   "outputs": [],
   "source": [
    "# a list of lists(a 2d list) all the sentences and the entities and tags\n",
    "data['annotations'][0]\n",
    "# data.keys()"
   ]
  },
  {
   "cell_type": "code",
   "execution_count": null,
   "metadata": {},
   "outputs": [],
   "source": [
    "# # you can index the lists to get the list of each sentence and the entities and tags associated\n",
    "# data['annotations'][0]\n",
    "\n",
    "# # the first thing in the list is the sentence\n",
    "# data['annotations'][0][0]\n",
    "\n",
    "# # the second thing in the list is a dictionary with one key 'entities'\n",
    "# data['annotations'][0][1]\n",
    "\n",
    "# the value of entities is another 2d array of the location of the entities and the tag\n",
    "data['annotations'][0][1]['entities']\n",
    "\n",
    "\n"
   ]
  },
  {
   "cell_type": "code",
   "execution_count": null,
   "metadata": {},
   "outputs": [],
   "source": [
    "# training data\n",
    "\n",
    "from spacy.tokens import DocBin\n",
    "# tqdm allows you to configure and display progress bar. useful for tracking ML experiments\n",
    "from tqdm import tqdm\n",
    "\n",
    "# load a new blank spacy model\n",
    "nlp = spacy.blank(\"en\")\n",
    "# make a new container. must be of type DocBin\n",
    "doc_bin = DocBin()\n",
    "\n",
    "# only interested in the content of the annotations key\n",
    "training_data = data['annotations']"
   ]
  },
  {
   "cell_type": "code",
   "execution_count": null,
   "metadata": {},
   "outputs": [],
   "source": [
    "# training data continued\n",
    "from tqdm import tqdm\n",
    "from spacy.util import filter_spans\n",
    "\n",
    "for example in tqdm(training_data):\n",
    "    # get each paragraph\n",
    "    text = example[0]\n",
    "    labels = example[1]['entities']\n",
    "\n",
    "    # make new doc object for each example(each sentence)\n",
    "    doc = nlp.make_doc(text)\n",
    "\n",
    "    # collect entities\n",
    "    ents = []\n",
    "\n",
    "    # create a span object for each entity\n",
    "    # span is a group of token(multi word token)\n",
    "    for x in labels:\n",
    "        span = doc.char_span(x[0],x[1], label = x[2], alignment_mode=\"contract\")\n",
    "        if span is None:\n",
    "            print(\"Skipping entity\")\n",
    "        else:\n",
    "            ents.append(span)\n",
    "    \n",
    "    # avoid duplicate span\n",
    "    filtered_ents = filter_spans(ents)\n",
    "    # add filtered entities to our doc object\n",
    "    doc.ents=filtered_ents\n",
    "    # add our doc objects to doc bin we created earlier \n",
    "    doc_bin.add(doc)\n",
    "\n",
    "    doc_bin.to_disk(\"train.spacy\")"
   ]
  },
  {
   "cell_type": "code",
   "execution_count": null,
   "metadata": {},
   "outputs": [],
   "source": [
    "!python -m spacy init fill-config base_config.cfg config.cfg"
   ]
  },
  {
   "cell_type": "code",
   "execution_count": null,
   "metadata": {},
   "outputs": [],
   "source": [
    "!python -m spacy train config.cfg --output ./ --paths.train ./train.spacy --paths.dev ./train.spacy"
   ]
  },
  {
   "cell_type": "code",
   "execution_count": null,
   "metadata": {},
   "outputs": [],
   "source": [
    "nlp_ner = spacy.load(\"model-best\")"
   ]
  },
  {
   "cell_type": "code",
   "execution_count": null,
   "metadata": {},
   "outputs": [],
   "source": [
    "# headlines = \"Kenya Meteorological Department (KMD) released various forecasts which indicated continued rains beyond the peak of the season which was predicted to be in second half of April. In April, rains spread out to most parts of the country, with parts of Western Kenya receiving over 300mm of rain while Rift Valley, Central and Southeastern Kenya received over 150mm. These rains were above what is normally received in April for Western, parts of Rift Valley, Central and Southeastern Kenya. At the same time, parts of the North, where drought is evolving, received rainfall that is below what is normally received in the month of April. On 27 April 2021, the KMD released the monthly forecast for May which indicated continued \"\n",
    "nlp_ner = spacy.load(\"model-best\")\n",
    "doc2 = nlp_ner(\"Kenya Meteorological Department (KMD) released various forecasts which indicated continued rains beyond the peak of the season which was predicted to be in second half of April. In April, rains spread out to most parts of the country, with parts of Western Kenya receiving over 300mm of rain while Rift Valley, Central and Southeastern Kenya received over 150mm. These rains were above what is normally received in April for Western, parts of Rift Valley, Central and Southeastern Kenya. At the same time, parts of the North, where drought is evolving, received rainfall that is below what is normally received in the month of April. On 27 April 2021, the KMD released the monthly forecast for May which indicated continued \"\n",
    ")\n",
    "# c\n",
    "\n",
    "for ent in doc2.ents:\n",
    "    print(ent.text, ent.label_)"
   ]
  }
 ],
 "metadata": {
  "kernelspec": {
   "display_name": "Python 3",
   "language": "python",
   "name": "python3"
  },
  "language_info": {
   "codemirror_mode": {
    "name": "ipython",
    "version": 3
   },
   "file_extension": ".py",
   "mimetype": "text/x-python",
   "name": "python",
   "nbconvert_exporter": "python",
   "pygments_lexer": "ipython3",
   "version": "3.11.1 (v3.11.1:a7a450f84a, Dec  6 2022, 15:24:06) [Clang 13.0.0 (clang-1300.0.29.30)]"
  },
  "orig_nbformat": 4,
  "vscode": {
   "interpreter": {
    "hash": "aee8b7b246df8f9039afb4144a1f6fd8d2ca17a180786b69acc140d282b71a49"
   }
  }
 },
 "nbformat": 4,
 "nbformat_minor": 2
}
