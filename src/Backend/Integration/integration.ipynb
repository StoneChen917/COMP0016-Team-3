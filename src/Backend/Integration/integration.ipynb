{
 "cells": [
  {
   "cell_type": "code",
   "execution_count": 1,
   "metadata": {},
   "outputs": [],
   "source": [
    "import PyPDF2"
   ]
  },
  {
   "cell_type": "code",
   "execution_count": null,
   "metadata": {},
   "outputs": [],
   "source": [
    "! pip3 install fuzzywuzzy  "
   ]
  },
  {
   "cell_type": "code",
   "execution_count": null,
   "metadata": {},
   "outputs": [],
   "source": [
    "! pip install levenshtein"
   ]
  },
  {
   "cell_type": "code",
   "execution_count": 2,
   "metadata": {},
   "outputs": [],
   "source": [
    "from fuzzywuzzy import fuzz "
   ]
  },
  {
   "cell_type": "code",
   "execution_count": 25,
   "metadata": {},
   "outputs": [],
   "source": [
    "# make class extraction with attributes number, dates, admins, first page e.t.c"
   ]
  },
  {
   "cell_type": "code",
   "execution_count": 3,
   "metadata": {},
   "outputs": [],
   "source": [
    "from readfile import ReadFile"
   ]
  },
  {
   "cell_type": "code",
   "execution_count": 5,
   "metadata": {},
   "outputs": [
    {
     "name": "stdout",
     "output_type": "stream",
     "text": [
      "The Unites states of america is a country of 50 states covering a vast swath of North America, with Alaska in the northwest and Hawaii extending the nation’s presence into the Pacific Ocean. Major Atlantic Coast cities are New York, a global finance and culture center, and capital Washington, DC. Midwestern metropolis Chicago is known for influential architecture and on the west coast, Los Angeles' Hollywood is famed for filmmaking. West virginia, Vermont. \n"
     ]
    }
   ],
   "source": [
    "# get first page content\n",
    "reader = ReadFile()\n",
    "path = \"testfile.pdf\"\n",
    "first_page = reader.exec(path)[0]\n",
    "print(first_page)"
   ]
  },
  {
   "cell_type": "code",
   "execution_count": 16,
   "metadata": {},
   "outputs": [
    {
     "name": "stdout",
     "output_type": "stream",
     "text": [
      "{'What is the Country of Disaster?': 'Cambodia', 'What is the Operation Start Date?': 'late July to October 2007', 'What is the Operation End Date?': 'October 2007', 'What is the number of people affected?': 'young children', 'What is the number of people assisted?': 'foreign help', 'What is the Glide Number?': 'EP-2007-000099-KHM', 'What is the Operation n°?': 'Global Agenda Goal 2', 'What is the Operation Budget?': 'CHF \\n140,900', 'What is the Host National Society?': '\\n'}\n"
     ]
    }
   ],
   "source": [
    "from QA_model import qaModel\n",
    "class1 = qaModel(\"MDRKH001final.pdf\")\n",
    "answers = class1.answers\n",
    "print(answers)\n",
    "# if answers['What is the Operation Start Date?']\n"
   ]
  },
  {
   "cell_type": "code",
   "execution_count": null,
   "metadata": {},
   "outputs": [],
   "source": [
    "# run QA on first page\n"
   ]
  }
 ],
 "metadata": {
  "kernelspec": {
   "display_name": "Python 3",
   "language": "python",
   "name": "python3"
  },
  "language_info": {
   "codemirror_mode": {
    "name": "ipython",
    "version": 3
   },
   "file_extension": ".py",
   "mimetype": "text/x-python",
   "name": "python",
   "nbconvert_exporter": "python",
   "pygments_lexer": "ipython3",
   "version": "3.10.0"
  },
  "orig_nbformat": 4,
  "vscode": {
   "interpreter": {
    "hash": "1154a9b27fc3a73b66bace9bb1f9078851fa1c44c36302049542392f5aadafcb"
   }
  }
 },
 "nbformat": 4,
 "nbformat_minor": 2
}
