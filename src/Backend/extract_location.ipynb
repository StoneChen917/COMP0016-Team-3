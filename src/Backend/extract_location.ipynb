{
 "cells": [
  {
   "cell_type": "code",
   "execution_count": 1,
   "metadata": {},
   "outputs": [],
   "source": [
    "import PyPDF2"
   ]
  },
  {
   "cell_type": "code",
   "execution_count": 2,
   "metadata": {},
   "outputs": [],
   "source": [
    "# READ FROM PDF\n",
    "\n",
    "with open('MDRKH001final.pdf', mode='rb') as f:\n",
    "    reader = PyPDF2.PdfReader(f)\n",
    "    totalpages = len(reader.pages)\n",
    "    textExtracted =''\n",
    "\n",
    "    for x in range (0,totalpages):\n",
    "        page = reader.pages[x]\n",
    "        textExtracted += page.extract_text()\n",
    "        textExtracted += \"\\n\""
   ]
  },
  {
   "cell_type": "code",
   "execution_count": 3,
   "metadata": {},
   "outputs": [
    {
     "ename": "ModuleNotFoundError",
     "evalue": "No module named 'spacy'",
     "output_type": "error",
     "traceback": [
      "\u001b[0;31m---------------------------------------------------------------------------\u001b[0m",
      "\u001b[0;31mModuleNotFoundError\u001b[0m                       Traceback (most recent call last)",
      "Cell \u001b[0;32mIn[3], line 1\u001b[0m\n\u001b[0;32m----> 1\u001b[0m \u001b[39mimport\u001b[39;00m \u001b[39mspacy\u001b[39;00m\n",
      "\u001b[0;31mModuleNotFoundError\u001b[0m: No module named 'spacy'"
     ]
    }
   ],
   "source": [
    "import spacy"
   ]
  },
  {
   "cell_type": "code",
   "execution_count": null,
   "metadata": {},
   "outputs": [],
   "source": [
    "nlp = spacy.load(\"en_core_web_lg\")"
   ]
  },
  {
   "cell_type": "code",
   "execution_count": null,
   "metadata": {},
   "outputs": [
    {
     "name": "stdout",
     "output_type": "stream",
     "text": [
      "['Cambodia', 'Cambodia', 'Ngan Chanta', 'Cambodia', 'Cambodia', 'D ecember-1997', 'Cambodia', 'Cambodia', 'Phnom Penh', 'Kampo', 'Phnom Penh', 'Kampong Sp eu', 'Kampong Cham', 'Phnom Penh', 'Cambodia', 'Kandal', 'Banthey', 'Phnom Penh', 'Banthey', 'Meanchey', 'Kampong Cham', 'Phnom Penh', 'Kampong Cham', 'Phnom Penh', 'Phnom Penh', 'Phnom Penh', 'Bangkok', 'Kuala Lumpur']\n"
     ]
    }
   ],
   "source": [
    "#  Get locations in a list\n",
    "\n",
    "doc = nlp(textExtracted)\n",
    "\n",
    "locations = []\n",
    "for ent in doc.ents:\n",
    "    if ent.label_ == \"GPE\":\n",
    "        locations.append(ent.text)\n",
    "print (locations)\n"
   ]
  },
  {
   "cell_type": "code",
   "execution_count": null,
   "metadata": {},
   "outputs": [
    {
     "name": "stdout",
     "output_type": "stream",
     "text": [
      "<class 'str'>\n",
      "<class 'str'>\n",
      "<class 'str'>\n",
      "<class 'str'>\n",
      "<class 'str'>\n",
      "<class 'str'>\n",
      "<class 'str'>\n",
      "<class 'str'>\n",
      "<class 'str'>\n",
      "<class 'str'>\n",
      "<class 'str'>\n",
      "<class 'str'>\n",
      "<class 'str'>\n",
      "<class 'str'>\n",
      "<class 'str'>\n",
      "<class 'str'>\n",
      "<class 'str'>\n",
      "<class 'str'>\n",
      "<class 'str'>\n",
      "<class 'str'>\n",
      "<class 'str'>\n",
      "<class 'str'>\n",
      "<class 'str'>\n",
      "<class 'str'>\n",
      "<class 'str'>\n",
      "<class 'str'>\n",
      "<class 'str'>\n",
      "<class 'str'>\n",
      "['Cambodia', 'Ngan Chanta', 'D ecember-1997', 'Phnom Penh', 'Kampo', 'Kampong Sp eu', 'Kampong Cham', 'Kandal', 'Banthey', 'Meanchey', 'Bangkok', 'Kuala Lumpur']\n"
     ]
    }
   ],
   "source": [
    "# Remove dublicate locations\n",
    "\n",
    "clean = []\n",
    "for i in locations:\n",
    "    print (type(i))\n",
    "    if i not in clean:\n",
    "        clean.append(i)\n",
    "print(clean)\n",
    "\n",
    "\n"
   ]
  }
 ],
 "metadata": {
  "kernelspec": {
   "display_name": "Python 3",
   "language": "python",
   "name": "python3"
  },
  "language_info": {
   "codemirror_mode": {
    "name": "ipython",
    "version": 3
   },
   "file_extension": ".py",
   "mimetype": "text/x-python",
   "name": "python",
   "nbconvert_exporter": "python",
   "pygments_lexer": "ipython3",
   "version": "3.11.1"
  },
  "orig_nbformat": 4,
  "vscode": {
   "interpreter": {
    "hash": "aee8b7b246df8f9039afb4144a1f6fd8d2ca17a180786b69acc140d282b71a49"
   }
  }
 },
 "nbformat": 4,
 "nbformat_minor": 2
}
