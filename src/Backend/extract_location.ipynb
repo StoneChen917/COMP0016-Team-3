{
 "cells": [
  {
   "cell_type": "code",
   "execution_count": 17,
   "metadata": {},
   "outputs": [],
   "source": [
    "import PyPDF2"
   ]
  },
  {
   "cell_type": "code",
   "execution_count": 42,
   "metadata": {},
   "outputs": [],
   "source": [
    "# READ FROM PDF\n",
    "\n",
    "with open('MDRKH001final.pdf', mode='rb') as f:\n",
    "    reader = PyPDF2.PdfReader(f)\n",
    "    totalpages = len(reader.pages)\n",
    "    textExtracted =''\n",
    "\n",
    "    for x in range (0,totalpages):\n",
    "        page = reader.pages[x]\n",
    "        textExtracted += page.extract_text()\n",
    "        textExtracted += \"\\n\""
   ]
  },
  {
   "cell_type": "code",
   "execution_count": 28,
   "metadata": {},
   "outputs": [],
   "source": [
    "import spacy"
   ]
  },
  {
   "cell_type": "code",
   "execution_count": 38,
   "metadata": {},
   "outputs": [],
   "source": [
    "nlp = spacy.load(\"en_core_web_lg\")"
   ]
  },
  {
   "cell_type": "code",
   "execution_count": 43,
   "metadata": {},
   "outputs": [
    {
     "name": "stdout",
     "output_type": "stream",
     "text": [
      "Cambodia\n",
      "Cambodia\n",
      "Ngan Chanta\n",
      "Cambodia\n",
      "Cambodia\n",
      "D ecember-1997\n",
      "Cambodia\n",
      "Cambodia\n",
      "Phnom Penh\n",
      "Kampo\n",
      "Phnom Penh\n",
      "Kampong Sp eu\n",
      "Kampong Cham\n",
      "Phnom Penh\n",
      "Cambodia\n",
      "Kandal\n",
      "Banthey\n",
      "Phnom Penh\n",
      "Banthey\n",
      "Meanchey\n",
      "Kampong Cham\n",
      "Phnom Penh\n",
      "Kampong Cham\n",
      "Phnom Penh\n",
      "Phnom Penh\n",
      "Phnom Penh\n",
      "Bangkok\n",
      "Kuala Lumpur\n"
     ]
    }
   ],
   "source": [
    "doc = nlp(textExtracted)\n",
    "for ent in doc.ents:\n",
    "    if ent.label_ == \"GPE\":\n",
    "        print (ent.text)\n",
    "    # print(ent.text, ent.label_)"
   ]
  }
 ],
 "metadata": {
  "kernelspec": {
   "display_name": "Python 3",
   "language": "python",
   "name": "python3"
  },
  "language_info": {
   "codemirror_mode": {
    "name": "ipython",
    "version": 3
   },
   "file_extension": ".py",
   "mimetype": "text/x-python",
   "name": "python",
   "nbconvert_exporter": "python",
   "pygments_lexer": "ipython3",
   "version": "3.10.0"
  },
  "orig_nbformat": 4,
  "vscode": {
   "interpreter": {
    "hash": "1154a9b27fc3a73b66bace9bb1f9078851fa1c44c36302049542392f5aadafcb"
   }
  }
 },
 "nbformat": 4,
 "nbformat_minor": 2
}
